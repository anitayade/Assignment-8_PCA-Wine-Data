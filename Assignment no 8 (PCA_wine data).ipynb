{
 "cells": [
  {
   "cell_type": "code",
   "execution_count": 1,
   "id": "ec1ca175",
   "metadata": {},
   "outputs": [],
   "source": [
    "import numpy as np\n",
    "import pandas as pd\n",
    "import matplotlib.pyplot as plt\n",
    "import seaborn as sns\n",
    "from sklearn.decomposition import PCA\n",
    "from sklearn.preprocessing import MinMaxScaler\n",
    "import scipy.cluster.hierarchy as sch\n",
    "from sklearn.cluster import AgglomerativeClustering, KMeans"
   ]
  },
  {
   "cell_type": "code",
   "execution_count": 2,
   "id": "26d469fc",
   "metadata": {},
   "outputs": [
    {
     "data": {
      "text/html": [
       "<div>\n",
       "<style scoped>\n",
       "    .dataframe tbody tr th:only-of-type {\n",
       "        vertical-align: middle;\n",
       "    }\n",
       "\n",
       "    .dataframe tbody tr th {\n",
       "        vertical-align: top;\n",
       "    }\n",
       "\n",
       "    .dataframe thead th {\n",
       "        text-align: right;\n",
       "    }\n",
       "</style>\n",
       "<table border=\"1\" class=\"dataframe\">\n",
       "  <thead>\n",
       "    <tr style=\"text-align: right;\">\n",
       "      <th></th>\n",
       "      <th>Type</th>\n",
       "      <th>Alcohol</th>\n",
       "      <th>Malic</th>\n",
       "      <th>Ash</th>\n",
       "      <th>Alcalinity</th>\n",
       "      <th>Magnesium</th>\n",
       "      <th>Phenols</th>\n",
       "      <th>Flavanoids</th>\n",
       "      <th>Nonflavanoids</th>\n",
       "      <th>Proanthocyanins</th>\n",
       "      <th>Color</th>\n",
       "      <th>Hue</th>\n",
       "      <th>Dilution</th>\n",
       "      <th>Proline</th>\n",
       "    </tr>\n",
       "  </thead>\n",
       "  <tbody>\n",
       "    <tr>\n",
       "      <th>0</th>\n",
       "      <td>1</td>\n",
       "      <td>14.23</td>\n",
       "      <td>1.71</td>\n",
       "      <td>2.43</td>\n",
       "      <td>15.6</td>\n",
       "      <td>127</td>\n",
       "      <td>2.80</td>\n",
       "      <td>3.06</td>\n",
       "      <td>0.28</td>\n",
       "      <td>2.29</td>\n",
       "      <td>5.64</td>\n",
       "      <td>1.04</td>\n",
       "      <td>3.92</td>\n",
       "      <td>1065</td>\n",
       "    </tr>\n",
       "    <tr>\n",
       "      <th>1</th>\n",
       "      <td>1</td>\n",
       "      <td>13.20</td>\n",
       "      <td>1.78</td>\n",
       "      <td>2.14</td>\n",
       "      <td>11.2</td>\n",
       "      <td>100</td>\n",
       "      <td>2.65</td>\n",
       "      <td>2.76</td>\n",
       "      <td>0.26</td>\n",
       "      <td>1.28</td>\n",
       "      <td>4.38</td>\n",
       "      <td>1.05</td>\n",
       "      <td>3.40</td>\n",
       "      <td>1050</td>\n",
       "    </tr>\n",
       "    <tr>\n",
       "      <th>2</th>\n",
       "      <td>1</td>\n",
       "      <td>13.16</td>\n",
       "      <td>2.36</td>\n",
       "      <td>2.67</td>\n",
       "      <td>18.6</td>\n",
       "      <td>101</td>\n",
       "      <td>2.80</td>\n",
       "      <td>3.24</td>\n",
       "      <td>0.30</td>\n",
       "      <td>2.81</td>\n",
       "      <td>5.68</td>\n",
       "      <td>1.03</td>\n",
       "      <td>3.17</td>\n",
       "      <td>1185</td>\n",
       "    </tr>\n",
       "    <tr>\n",
       "      <th>3</th>\n",
       "      <td>1</td>\n",
       "      <td>14.37</td>\n",
       "      <td>1.95</td>\n",
       "      <td>2.50</td>\n",
       "      <td>16.8</td>\n",
       "      <td>113</td>\n",
       "      <td>3.85</td>\n",
       "      <td>3.49</td>\n",
       "      <td>0.24</td>\n",
       "      <td>2.18</td>\n",
       "      <td>7.80</td>\n",
       "      <td>0.86</td>\n",
       "      <td>3.45</td>\n",
       "      <td>1480</td>\n",
       "    </tr>\n",
       "    <tr>\n",
       "      <th>4</th>\n",
       "      <td>1</td>\n",
       "      <td>13.24</td>\n",
       "      <td>2.59</td>\n",
       "      <td>2.87</td>\n",
       "      <td>21.0</td>\n",
       "      <td>118</td>\n",
       "      <td>2.80</td>\n",
       "      <td>2.69</td>\n",
       "      <td>0.39</td>\n",
       "      <td>1.82</td>\n",
       "      <td>4.32</td>\n",
       "      <td>1.04</td>\n",
       "      <td>2.93</td>\n",
       "      <td>735</td>\n",
       "    </tr>\n",
       "  </tbody>\n",
       "</table>\n",
       "</div>"
      ],
      "text/plain": [
       "   Type  Alcohol  Malic   Ash  Alcalinity  Magnesium  Phenols  Flavanoids  \\\n",
       "0     1    14.23   1.71  2.43        15.6        127     2.80        3.06   \n",
       "1     1    13.20   1.78  2.14        11.2        100     2.65        2.76   \n",
       "2     1    13.16   2.36  2.67        18.6        101     2.80        3.24   \n",
       "3     1    14.37   1.95  2.50        16.8        113     3.85        3.49   \n",
       "4     1    13.24   2.59  2.87        21.0        118     2.80        2.69   \n",
       "\n",
       "   Nonflavanoids  Proanthocyanins  Color   Hue  Dilution  Proline  \n",
       "0           0.28             2.29   5.64  1.04      3.92     1065  \n",
       "1           0.26             1.28   4.38  1.05      3.40     1050  \n",
       "2           0.30             2.81   5.68  1.03      3.17     1185  \n",
       "3           0.24             2.18   7.80  0.86      3.45     1480  \n",
       "4           0.39             1.82   4.32  1.04      2.93      735  "
      ]
     },
     "execution_count": 2,
     "metadata": {},
     "output_type": "execute_result"
    }
   ],
   "source": [
    "data=pd.read_csv(\"wine.csv\")\n",
    "data.head()"
   ]
  },
  {
   "cell_type": "code",
   "execution_count": 3,
   "id": "d9cc0b20",
   "metadata": {},
   "outputs": [
    {
     "data": {
      "text/plain": [
       "(178, 14)"
      ]
     },
     "execution_count": 3,
     "metadata": {},
     "output_type": "execute_result"
    }
   ],
   "source": [
    "data.shape"
   ]
  },
  {
   "cell_type": "code",
   "execution_count": 4,
   "id": "28d9ebe3",
   "metadata": {},
   "outputs": [
    {
     "data": {
      "text/plain": [
       "Index(['Type', 'Alcohol', 'Malic', 'Ash', 'Alcalinity', 'Magnesium', 'Phenols',\n",
       "       'Flavanoids', 'Nonflavanoids', 'Proanthocyanins', 'Color', 'Hue',\n",
       "       'Dilution', 'Proline'],\n",
       "      dtype='object')"
      ]
     },
     "execution_count": 4,
     "metadata": {},
     "output_type": "execute_result"
    }
   ],
   "source": [
    "data.columns"
   ]
  },
  {
   "cell_type": "code",
   "execution_count": 5,
   "id": "a929434d",
   "metadata": {},
   "outputs": [
    {
     "data": {
      "text/plain": [
       "Type               0\n",
       "Alcohol            0\n",
       "Malic              0\n",
       "Ash                0\n",
       "Alcalinity         0\n",
       "Magnesium          0\n",
       "Phenols            0\n",
       "Flavanoids         0\n",
       "Nonflavanoids      0\n",
       "Proanthocyanins    0\n",
       "Color              0\n",
       "Hue                0\n",
       "Dilution           0\n",
       "Proline            0\n",
       "dtype: int64"
      ]
     },
     "execution_count": 5,
     "metadata": {},
     "output_type": "execute_result"
    }
   ],
   "source": [
    "data.isna().sum()"
   ]
  },
  {
   "cell_type": "code",
   "execution_count": 6,
   "id": "553878eb",
   "metadata": {},
   "outputs": [
    {
     "name": "stdout",
     "output_type": "stream",
     "text": [
      "<class 'pandas.core.frame.DataFrame'>\n",
      "RangeIndex: 178 entries, 0 to 177\n",
      "Data columns (total 14 columns):\n",
      " #   Column           Non-Null Count  Dtype  \n",
      "---  ------           --------------  -----  \n",
      " 0   Type             178 non-null    int64  \n",
      " 1   Alcohol          178 non-null    float64\n",
      " 2   Malic            178 non-null    float64\n",
      " 3   Ash              178 non-null    float64\n",
      " 4   Alcalinity       178 non-null    float64\n",
      " 5   Magnesium        178 non-null    int64  \n",
      " 6   Phenols          178 non-null    float64\n",
      " 7   Flavanoids       178 non-null    float64\n",
      " 8   Nonflavanoids    178 non-null    float64\n",
      " 9   Proanthocyanins  178 non-null    float64\n",
      " 10  Color            178 non-null    float64\n",
      " 11  Hue              178 non-null    float64\n",
      " 12  Dilution         178 non-null    float64\n",
      " 13  Proline          178 non-null    int64  \n",
      "dtypes: float64(11), int64(3)\n",
      "memory usage: 19.6 KB\n"
     ]
    }
   ],
   "source": [
    "data.info()"
   ]
  },
  {
   "cell_type": "code",
   "execution_count": 7,
   "id": "c4bcc30a",
   "metadata": {},
   "outputs": [
    {
     "data": {
      "text/html": [
       "<div>\n",
       "<style scoped>\n",
       "    .dataframe tbody tr th:only-of-type {\n",
       "        vertical-align: middle;\n",
       "    }\n",
       "\n",
       "    .dataframe tbody tr th {\n",
       "        vertical-align: top;\n",
       "    }\n",
       "\n",
       "    .dataframe thead th {\n",
       "        text-align: right;\n",
       "    }\n",
       "</style>\n",
       "<table border=\"1\" class=\"dataframe\">\n",
       "  <thead>\n",
       "    <tr style=\"text-align: right;\">\n",
       "      <th></th>\n",
       "      <th>Type</th>\n",
       "      <th>Alcohol</th>\n",
       "      <th>Malic</th>\n",
       "      <th>Ash</th>\n",
       "      <th>Alcalinity</th>\n",
       "      <th>Magnesium</th>\n",
       "      <th>Phenols</th>\n",
       "      <th>Flavanoids</th>\n",
       "      <th>Nonflavanoids</th>\n",
       "      <th>Proanthocyanins</th>\n",
       "      <th>Color</th>\n",
       "      <th>Hue</th>\n",
       "      <th>Dilution</th>\n",
       "      <th>Proline</th>\n",
       "    </tr>\n",
       "  </thead>\n",
       "  <tbody>\n",
       "    <tr>\n",
       "      <th>count</th>\n",
       "      <td>178.000000</td>\n",
       "      <td>178.000000</td>\n",
       "      <td>178.000000</td>\n",
       "      <td>178.000000</td>\n",
       "      <td>178.000000</td>\n",
       "      <td>178.000000</td>\n",
       "      <td>178.000000</td>\n",
       "      <td>178.000000</td>\n",
       "      <td>178.000000</td>\n",
       "      <td>178.000000</td>\n",
       "      <td>178.000000</td>\n",
       "      <td>178.000000</td>\n",
       "      <td>178.000000</td>\n",
       "      <td>178.000000</td>\n",
       "    </tr>\n",
       "    <tr>\n",
       "      <th>mean</th>\n",
       "      <td>1.938202</td>\n",
       "      <td>13.000618</td>\n",
       "      <td>2.336348</td>\n",
       "      <td>2.366517</td>\n",
       "      <td>19.494944</td>\n",
       "      <td>99.741573</td>\n",
       "      <td>2.295112</td>\n",
       "      <td>2.029270</td>\n",
       "      <td>0.361854</td>\n",
       "      <td>1.590899</td>\n",
       "      <td>5.058090</td>\n",
       "      <td>0.957449</td>\n",
       "      <td>2.611685</td>\n",
       "      <td>746.893258</td>\n",
       "    </tr>\n",
       "    <tr>\n",
       "      <th>std</th>\n",
       "      <td>0.775035</td>\n",
       "      <td>0.811827</td>\n",
       "      <td>1.117146</td>\n",
       "      <td>0.274344</td>\n",
       "      <td>3.339564</td>\n",
       "      <td>14.282484</td>\n",
       "      <td>0.625851</td>\n",
       "      <td>0.998859</td>\n",
       "      <td>0.124453</td>\n",
       "      <td>0.572359</td>\n",
       "      <td>2.318286</td>\n",
       "      <td>0.228572</td>\n",
       "      <td>0.709990</td>\n",
       "      <td>314.907474</td>\n",
       "    </tr>\n",
       "    <tr>\n",
       "      <th>min</th>\n",
       "      <td>1.000000</td>\n",
       "      <td>11.030000</td>\n",
       "      <td>0.740000</td>\n",
       "      <td>1.360000</td>\n",
       "      <td>10.600000</td>\n",
       "      <td>70.000000</td>\n",
       "      <td>0.980000</td>\n",
       "      <td>0.340000</td>\n",
       "      <td>0.130000</td>\n",
       "      <td>0.410000</td>\n",
       "      <td>1.280000</td>\n",
       "      <td>0.480000</td>\n",
       "      <td>1.270000</td>\n",
       "      <td>278.000000</td>\n",
       "    </tr>\n",
       "    <tr>\n",
       "      <th>25%</th>\n",
       "      <td>1.000000</td>\n",
       "      <td>12.362500</td>\n",
       "      <td>1.602500</td>\n",
       "      <td>2.210000</td>\n",
       "      <td>17.200000</td>\n",
       "      <td>88.000000</td>\n",
       "      <td>1.742500</td>\n",
       "      <td>1.205000</td>\n",
       "      <td>0.270000</td>\n",
       "      <td>1.250000</td>\n",
       "      <td>3.220000</td>\n",
       "      <td>0.782500</td>\n",
       "      <td>1.937500</td>\n",
       "      <td>500.500000</td>\n",
       "    </tr>\n",
       "    <tr>\n",
       "      <th>50%</th>\n",
       "      <td>2.000000</td>\n",
       "      <td>13.050000</td>\n",
       "      <td>1.865000</td>\n",
       "      <td>2.360000</td>\n",
       "      <td>19.500000</td>\n",
       "      <td>98.000000</td>\n",
       "      <td>2.355000</td>\n",
       "      <td>2.135000</td>\n",
       "      <td>0.340000</td>\n",
       "      <td>1.555000</td>\n",
       "      <td>4.690000</td>\n",
       "      <td>0.965000</td>\n",
       "      <td>2.780000</td>\n",
       "      <td>673.500000</td>\n",
       "    </tr>\n",
       "    <tr>\n",
       "      <th>75%</th>\n",
       "      <td>3.000000</td>\n",
       "      <td>13.677500</td>\n",
       "      <td>3.082500</td>\n",
       "      <td>2.557500</td>\n",
       "      <td>21.500000</td>\n",
       "      <td>107.000000</td>\n",
       "      <td>2.800000</td>\n",
       "      <td>2.875000</td>\n",
       "      <td>0.437500</td>\n",
       "      <td>1.950000</td>\n",
       "      <td>6.200000</td>\n",
       "      <td>1.120000</td>\n",
       "      <td>3.170000</td>\n",
       "      <td>985.000000</td>\n",
       "    </tr>\n",
       "    <tr>\n",
       "      <th>max</th>\n",
       "      <td>3.000000</td>\n",
       "      <td>14.830000</td>\n",
       "      <td>5.800000</td>\n",
       "      <td>3.230000</td>\n",
       "      <td>30.000000</td>\n",
       "      <td>162.000000</td>\n",
       "      <td>3.880000</td>\n",
       "      <td>5.080000</td>\n",
       "      <td>0.660000</td>\n",
       "      <td>3.580000</td>\n",
       "      <td>13.000000</td>\n",
       "      <td>1.710000</td>\n",
       "      <td>4.000000</td>\n",
       "      <td>1680.000000</td>\n",
       "    </tr>\n",
       "  </tbody>\n",
       "</table>\n",
       "</div>"
      ],
      "text/plain": [
       "             Type     Alcohol       Malic         Ash  Alcalinity   Magnesium  \\\n",
       "count  178.000000  178.000000  178.000000  178.000000  178.000000  178.000000   \n",
       "mean     1.938202   13.000618    2.336348    2.366517   19.494944   99.741573   \n",
       "std      0.775035    0.811827    1.117146    0.274344    3.339564   14.282484   \n",
       "min      1.000000   11.030000    0.740000    1.360000   10.600000   70.000000   \n",
       "25%      1.000000   12.362500    1.602500    2.210000   17.200000   88.000000   \n",
       "50%      2.000000   13.050000    1.865000    2.360000   19.500000   98.000000   \n",
       "75%      3.000000   13.677500    3.082500    2.557500   21.500000  107.000000   \n",
       "max      3.000000   14.830000    5.800000    3.230000   30.000000  162.000000   \n",
       "\n",
       "          Phenols  Flavanoids  Nonflavanoids  Proanthocyanins       Color  \\\n",
       "count  178.000000  178.000000     178.000000       178.000000  178.000000   \n",
       "mean     2.295112    2.029270       0.361854         1.590899    5.058090   \n",
       "std      0.625851    0.998859       0.124453         0.572359    2.318286   \n",
       "min      0.980000    0.340000       0.130000         0.410000    1.280000   \n",
       "25%      1.742500    1.205000       0.270000         1.250000    3.220000   \n",
       "50%      2.355000    2.135000       0.340000         1.555000    4.690000   \n",
       "75%      2.800000    2.875000       0.437500         1.950000    6.200000   \n",
       "max      3.880000    5.080000       0.660000         3.580000   13.000000   \n",
       "\n",
       "              Hue    Dilution      Proline  \n",
       "count  178.000000  178.000000   178.000000  \n",
       "mean     0.957449    2.611685   746.893258  \n",
       "std      0.228572    0.709990   314.907474  \n",
       "min      0.480000    1.270000   278.000000  \n",
       "25%      0.782500    1.937500   500.500000  \n",
       "50%      0.965000    2.780000   673.500000  \n",
       "75%      1.120000    3.170000   985.000000  \n",
       "max      1.710000    4.000000  1680.000000  "
      ]
     },
     "execution_count": 7,
     "metadata": {},
     "output_type": "execute_result"
    }
   ],
   "source": [
    "data.describe()"
   ]
  },
  {
   "cell_type": "code",
   "execution_count": 8,
   "id": "9692ec72",
   "metadata": {},
   "outputs": [
    {
     "data": {
      "text/plain": [
       "<AxesSubplot:>"
      ]
     },
     "execution_count": 8,
     "metadata": {},
     "output_type": "execute_result"
    },
    {
     "data": {
      "image/png": "[encoded data removed]",
      "text/plain": [
       "<Figure size 432x288 with 2 Axes>"
      ]
     },
     "metadata": {
      "needs_background": "light"
     },
     "output_type": "display_data"
    }
   ],
   "source": [
    "sns.heatmap(data.isna())#no null value in data set"
   ]
  },
  {
   "cell_type": "markdown",
   "id": "35b78f52",
   "metadata": {},
   "source": [
    "# EDA"
   ]
  },
  {
   "cell_type": "code",
   "execution_count": 9,
   "id": "3cfd0cd3",
   "metadata": {},
   "outputs": [
    {
     "data": {
      "text/html": [
       "<div>\n",
       "<style scoped>\n",
       "    .dataframe tbody tr th:only-of-type {\n",
       "        vertical-align: middle;\n",
       "    }\n",
       "\n",
       "    .dataframe tbody tr th {\n",
       "        vertical-align: top;\n",
       "    }\n",
       "\n",
       "    .dataframe thead th {\n",
       "        text-align: right;\n",
       "    }\n",
       "</style>\n",
       "<table border=\"1\" class=\"dataframe\">\n",
       "  <thead>\n",
       "    <tr style=\"text-align: right;\">\n",
       "      <th></th>\n",
       "      <th>Alcohol</th>\n",
       "      <th>Malic</th>\n",
       "      <th>Ash</th>\n",
       "      <th>Alcalinity</th>\n",
       "      <th>Magnesium</th>\n",
       "      <th>Phenols</th>\n",
       "      <th>Flavanoids</th>\n",
       "      <th>Nonflavanoids</th>\n",
       "      <th>Proanthocyanins</th>\n",
       "      <th>Color</th>\n",
       "      <th>Hue</th>\n",
       "      <th>Dilution</th>\n",
       "      <th>Proline</th>\n",
       "    </tr>\n",
       "  </thead>\n",
       "  <tbody>\n",
       "    <tr>\n",
       "      <th>0</th>\n",
       "      <td>14.23</td>\n",
       "      <td>1.71</td>\n",
       "      <td>2.43</td>\n",
       "      <td>15.6</td>\n",
       "      <td>127</td>\n",
       "      <td>2.80</td>\n",
       "      <td>3.06</td>\n",
       "      <td>0.28</td>\n",
       "      <td>2.29</td>\n",
       "      <td>5.64</td>\n",
       "      <td>1.04</td>\n",
       "      <td>3.92</td>\n",
       "      <td>1065</td>\n",
       "    </tr>\n",
       "    <tr>\n",
       "      <th>1</th>\n",
       "      <td>13.20</td>\n",
       "      <td>1.78</td>\n",
       "      <td>2.14</td>\n",
       "      <td>11.2</td>\n",
       "      <td>100</td>\n",
       "      <td>2.65</td>\n",
       "      <td>2.76</td>\n",
       "      <td>0.26</td>\n",
       "      <td>1.28</td>\n",
       "      <td>4.38</td>\n",
       "      <td>1.05</td>\n",
       "      <td>3.40</td>\n",
       "      <td>1050</td>\n",
       "    </tr>\n",
       "    <tr>\n",
       "      <th>2</th>\n",
       "      <td>13.16</td>\n",
       "      <td>2.36</td>\n",
       "      <td>2.67</td>\n",
       "      <td>18.6</td>\n",
       "      <td>101</td>\n",
       "      <td>2.80</td>\n",
       "      <td>3.24</td>\n",
       "      <td>0.30</td>\n",
       "      <td>2.81</td>\n",
       "      <td>5.68</td>\n",
       "      <td>1.03</td>\n",
       "      <td>3.17</td>\n",
       "      <td>1185</td>\n",
       "    </tr>\n",
       "    <tr>\n",
       "      <th>3</th>\n",
       "      <td>14.37</td>\n",
       "      <td>1.95</td>\n",
       "      <td>2.50</td>\n",
       "      <td>16.8</td>\n",
       "      <td>113</td>\n",
       "      <td>3.85</td>\n",
       "      <td>3.49</td>\n",
       "      <td>0.24</td>\n",
       "      <td>2.18</td>\n",
       "      <td>7.80</td>\n",
       "      <td>0.86</td>\n",
       "      <td>3.45</td>\n",
       "      <td>1480</td>\n",
       "    </tr>\n",
       "    <tr>\n",
       "      <th>4</th>\n",
       "      <td>13.24</td>\n",
       "      <td>2.59</td>\n",
       "      <td>2.87</td>\n",
       "      <td>21.0</td>\n",
       "      <td>118</td>\n",
       "      <td>2.80</td>\n",
       "      <td>2.69</td>\n",
       "      <td>0.39</td>\n",
       "      <td>1.82</td>\n",
       "      <td>4.32</td>\n",
       "      <td>1.04</td>\n",
       "      <td>2.93</td>\n",
       "      <td>735</td>\n",
       "    </tr>\n",
       "  </tbody>\n",
       "</table>\n",
       "</div>"
      ],
      "text/plain": [
       "   Alcohol  Malic   Ash  Alcalinity  Magnesium  Phenols  Flavanoids  \\\n",
       "0    14.23   1.71  2.43        15.6        127     2.80        3.06   \n",
       "1    13.20   1.78  2.14        11.2        100     2.65        2.76   \n",
       "2    13.16   2.36  2.67        18.6        101     2.80        3.24   \n",
       "3    14.37   1.95  2.50        16.8        113     3.85        3.49   \n",
       "4    13.24   2.59  2.87        21.0        118     2.80        2.69   \n",
       "\n",
       "   Nonflavanoids  Proanthocyanins  Color   Hue  Dilution  Proline  \n",
       "0           0.28             2.29   5.64  1.04      3.92     1065  \n",
       "1           0.26             1.28   4.38  1.05      3.40     1050  \n",
       "2           0.30             2.81   5.68  1.03      3.17     1185  \n",
       "3           0.24             2.18   7.80  0.86      3.45     1480  \n",
       "4           0.39             1.82   4.32  1.04      2.93      735  "
      ]
     },
     "execution_count": 9,
     "metadata": {},
     "output_type": "execute_result"
    }
   ],
   "source": [
    "#remove type column in dataset\n",
    "data.drop(data.columns[0],axis=1, inplace=True)\n",
    "data.head()"
   ]
  },
  {
   "cell_type": "code",
   "execution_count": 10,
   "id": "65874fa0",
   "metadata": {},
   "outputs": [
    {
     "data": {
      "image/png": "[encoded data removed]",
      "text/plain": [
       "<Figure size 1440x432 with 13 Axes>"
      ]
     },
     "metadata": {
      "needs_background": "light"
     },
     "output_type": "display_data"
    }
   ],
   "source": [
    "#Most of  observed outliers is present. Eliminate the outliers for better accuracy or prediction of model\n",
    "data.plot(kind='box', subplots=True, figsize=(20,6))\n",
    "plt.tight_layout()"
   ]
  },
  {
   "cell_type": "code",
   "execution_count": 11,
   "id": "e0a8a450",
   "metadata": {},
   "outputs": [],
   "source": [
    "#Remove outlier\n",
    "data.drop(data.index[data['Malic']>5], inplace=True)\n",
    "data.drop(data.index[data['Ash']>3], inplace=True)\n",
    "data.drop(data.index[data['Ash']<1.8], inplace=True)\n",
    "data.drop(data.index[data['Alcalinity']>25], inplace=True)\n",
    "data.drop(data.index[data['Alcalinity']<11], inplace=True)\n",
    "data.drop(data.index[data['Magnesium']>132], inplace=True)\n",
    "data.drop(data.index[data['Proanthocyanins']>2.5], inplace=True)\n",
    "data.drop(data.index[data['Color']>10.5], inplace=True)\n",
    "data.drop(data.index[data['Hue']>1.6], inplace=True)"
   ]
  },
  {
   "cell_type": "code",
   "execution_count": 12,
   "id": "a6dd37ec",
   "metadata": {},
   "outputs": [
    {
     "data": {
      "image/png": "[encoded data removed]",
      "text/plain": [
       "<Figure size 1440x432 with 13 Axes>"
      ]
     },
     "metadata": {
      "needs_background": "light"
     },
     "output_type": "display_data"
    }
   ],
   "source": [
    "data.plot(kind='box', subplots=True, figsize=(20,6))\n",
    "plt.tight_layout()# no outlier in data "
   ]
  },
  {
   "cell_type": "code",
   "execution_count": 13,
   "id": "804992a7",
   "metadata": {},
   "outputs": [
    {
     "data": {
      "text/html": [
       "<div>\n",
       "<style scoped>\n",
       "    .dataframe tbody tr th:only-of-type {\n",
       "        vertical-align: middle;\n",
       "    }\n",
       "\n",
       "    .dataframe tbody tr th {\n",
       "        vertical-align: top;\n",
       "    }\n",
       "\n",
       "    .dataframe thead th {\n",
       "        text-align: right;\n",
       "    }\n",
       "</style>\n",
       "<table border=\"1\" class=\"dataframe\">\n",
       "  <thead>\n",
       "    <tr style=\"text-align: right;\">\n",
       "      <th></th>\n",
       "      <th>Alcohol</th>\n",
       "      <th>Malic</th>\n",
       "      <th>Ash</th>\n",
       "      <th>Alcalinity</th>\n",
       "      <th>Magnesium</th>\n",
       "      <th>Phenols</th>\n",
       "      <th>Flavanoids</th>\n",
       "      <th>Nonflavanoids</th>\n",
       "      <th>Proanthocyanins</th>\n",
       "      <th>Color</th>\n",
       "      <th>Hue</th>\n",
       "      <th>Dilution</th>\n",
       "      <th>Proline</th>\n",
       "    </tr>\n",
       "  </thead>\n",
       "  <tbody>\n",
       "    <tr>\n",
       "      <th>0</th>\n",
       "      <td>0.824561</td>\n",
       "      <td>0.230404</td>\n",
       "      <td>0.528846</td>\n",
       "      <td>0.318841</td>\n",
       "      <td>0.919355</td>\n",
       "      <td>0.611511</td>\n",
       "      <td>0.748555</td>\n",
       "      <td>0.283019</td>\n",
       "      <td>0.903846</td>\n",
       "      <td>0.485523</td>\n",
       "      <td>0.549451</td>\n",
       "      <td>0.970696</td>\n",
       "      <td>0.561341</td>\n",
       "    </tr>\n",
       "    <tr>\n",
       "      <th>1</th>\n",
       "      <td>0.523392</td>\n",
       "      <td>0.247031</td>\n",
       "      <td>0.250000</td>\n",
       "      <td>0.000000</td>\n",
       "      <td>0.483871</td>\n",
       "      <td>0.557554</td>\n",
       "      <td>0.661850</td>\n",
       "      <td>0.245283</td>\n",
       "      <td>0.418269</td>\n",
       "      <td>0.345212</td>\n",
       "      <td>0.560440</td>\n",
       "      <td>0.780220</td>\n",
       "      <td>0.550642</td>\n",
       "    </tr>\n",
       "    <tr>\n",
       "      <th>2</th>\n",
       "      <td>0.865497</td>\n",
       "      <td>0.287411</td>\n",
       "      <td>0.596154</td>\n",
       "      <td>0.405797</td>\n",
       "      <td>0.693548</td>\n",
       "      <td>0.989209</td>\n",
       "      <td>0.872832</td>\n",
       "      <td>0.207547</td>\n",
       "      <td>0.850962</td>\n",
       "      <td>0.726058</td>\n",
       "      <td>0.351648</td>\n",
       "      <td>0.798535</td>\n",
       "      <td>0.857347</td>\n",
       "    </tr>\n",
       "    <tr>\n",
       "      <th>3</th>\n",
       "      <td>0.535088</td>\n",
       "      <td>0.439430</td>\n",
       "      <td>0.951923</td>\n",
       "      <td>0.710145</td>\n",
       "      <td>0.774194</td>\n",
       "      <td>0.611511</td>\n",
       "      <td>0.641618</td>\n",
       "      <td>0.490566</td>\n",
       "      <td>0.677885</td>\n",
       "      <td>0.338530</td>\n",
       "      <td>0.549451</td>\n",
       "      <td>0.608059</td>\n",
       "      <td>0.325963</td>\n",
       "    </tr>\n",
       "    <tr>\n",
       "      <th>4</th>\n",
       "      <td>0.815789</td>\n",
       "      <td>0.242280</td>\n",
       "      <td>0.548077</td>\n",
       "      <td>0.289855</td>\n",
       "      <td>0.677419</td>\n",
       "      <td>0.780576</td>\n",
       "      <td>0.843931</td>\n",
       "      <td>0.396226</td>\n",
       "      <td>0.750000</td>\n",
       "      <td>0.609131</td>\n",
       "      <td>0.560440</td>\n",
       "      <td>0.578755</td>\n",
       "      <td>0.835949</td>\n",
       "    </tr>\n",
       "  </tbody>\n",
       "</table>\n",
       "</div>"
      ],
      "text/plain": [
       "    Alcohol     Malic       Ash  Alcalinity  Magnesium   Phenols  Flavanoids  \\\n",
       "0  0.824561  0.230404  0.528846    0.318841   0.919355  0.611511    0.748555   \n",
       "1  0.523392  0.247031  0.250000    0.000000   0.483871  0.557554    0.661850   \n",
       "2  0.865497  0.287411  0.596154    0.405797   0.693548  0.989209    0.872832   \n",
       "3  0.535088  0.439430  0.951923    0.710145   0.774194  0.611511    0.641618   \n",
       "4  0.815789  0.242280  0.548077    0.289855   0.677419  0.780576    0.843931   \n",
       "\n",
       "   Nonflavanoids  Proanthocyanins     Color       Hue  Dilution   Proline  \n",
       "0       0.283019         0.903846  0.485523  0.549451  0.970696  0.561341  \n",
       "1       0.245283         0.418269  0.345212  0.560440  0.780220  0.550642  \n",
       "2       0.207547         0.850962  0.726058  0.351648  0.798535  0.857347  \n",
       "3       0.490566         0.677885  0.338530  0.549451  0.608059  0.325963  \n",
       "4       0.396226         0.750000  0.609131  0.560440  0.578755  0.835949  "
      ]
     },
     "execution_count": 13,
     "metadata": {},
     "output_type": "execute_result"
    }
   ],
   "source": [
    "#Standardizing Dataset\n",
    "scale = MinMaxScaler()\n",
    "data_std = scale.fit_transform(data)\n",
    "data_std = pd.DataFrame(data_std, columns=data.columns)\n",
    "data_std.head()"
   ]
  },
  {
   "cell_type": "code",
   "execution_count": 14,
   "id": "0fcb2de9",
   "metadata": {},
   "outputs": [
    {
     "data": {
      "text/plain": [
       "(144, 13)"
      ]
     },
     "execution_count": 14,
     "metadata": {},
     "output_type": "execute_result"
    }
   ],
   "source": [
    "data_std.shape"
   ]
  },
  {
   "cell_type": "markdown",
   "id": "6caaf011",
   "metadata": {},
   "source": [
    "# Applying PCA"
   ]
  },
  {
   "cell_type": "code",
   "execution_count": 15,
   "id": "4d5a13f6",
   "metadata": {},
   "outputs": [],
   "source": [
    "#Applying PCA to reduce dimensions\n",
    "pca = PCA(random_state=40)\n",
    "pca_values = pca.fit_transform(data_std)"
   ]
  },
  {
   "cell_type": "code",
   "execution_count": 16,
   "id": "91de50ce",
   "metadata": {},
   "outputs": [
    {
     "data": {
      "text/plain": [
       "array([[-0.84010844, -0.297656  , -0.04532235, ..., -0.07718492,\n",
       "         0.06492511,  0.02255496],\n",
       "       [-0.5074675 ,  0.0831343 , -0.42054686, ..., -0.100973  ,\n",
       "        -0.00670464, -0.03320524],\n",
       "       [-0.94453211, -0.59992051, -0.08691626, ...,  0.13414915,\n",
       "         0.01601052,  0.1019365 ],\n",
       "       ...,\n",
       "       [ 0.69793306, -0.76229205, -0.24543002, ...,  0.01564559,\n",
       "         0.22499182,  0.02466596],\n",
       "       [ 0.61774111, -0.59533002, -0.09466748, ...,  0.03319345,\n",
       "         0.13464388,  0.05458268],\n",
       "       [ 0.76741198, -0.71623266,  0.3149208 , ..., -0.05426711,\n",
       "        -0.05443203,  0.07722431]])"
      ]
     },
     "execution_count": 16,
     "metadata": {},
     "output_type": "execute_result"
    }
   ],
   "source": [
    "pca_values"
   ]
  },
  {
   "cell_type": "code",
   "execution_count": 17,
   "id": "2c0a6cb4",
   "metadata": {},
   "outputs": [
    {
     "data": {
      "text/plain": [
       "array([0.42832182, 0.20348286, 0.07456962, 0.06778167, 0.04488708,\n",
       "       0.04150387, 0.0324845 , 0.02543712, 0.02246272, 0.02212112,\n",
       "       0.01545003, 0.01353629, 0.0079613 ])"
      ]
     },
     "execution_count": 17,
     "metadata": {},
     "output_type": "execute_result"
    }
   ],
   "source": [
    "# The amount of variance that each PCA has\n",
    "var = pca.explained_variance_ratio_\n",
    "var"
   ]
  },
  {
   "cell_type": "code",
   "execution_count": 18,
   "id": "b187a03f",
   "metadata": {},
   "outputs": [
    {
     "data": {
      "text/plain": [
       "array([ 42.83,  63.18,  70.64,  77.42,  81.91,  86.06,  89.31,  91.85,\n",
       "        94.1 ,  96.31,  97.86,  99.21, 100.01])"
      ]
     },
     "execution_count": 18,
     "metadata": {},
     "output_type": "execute_result"
    }
   ],
   "source": [
    "# Cummulative variance of each PCA\n",
    "var1=np.cumsum(np.round(var,4)*100)\n",
    "var1"
   ]
  },
  {
   "cell_type": "code",
   "execution_count": 19,
   "id": "9bc29cc3",
   "metadata": {},
   "outputs": [
    {
     "data": {
      "text/plain": [
       "[<matplotlib.lines.Line2D at 0x16c1ff22910>]"
      ]
     },
     "execution_count": 19,
     "metadata": {},
     "output_type": "execute_result"
    },
    {
     "data": {
      "image/png": "[encoded data removed]",
      "text/plain": [
       "<Figure size 432x288 with 1 Axes>"
      ]
     },
     "metadata": {
      "needs_background": "light"
     },
     "output_type": "display_data"
    }
   ],
   "source": [
    "# Variance plot for PCA components obtained \n",
    "plt.plot(var1,color='magenta')"
   ]
  },
  {
   "cell_type": "code",
   "execution_count": 20,
   "id": "482668bc",
   "metadata": {},
   "outputs": [
    {
     "data": {
      "text/plain": [
       "array([[-8.40108441e-01, -2.97655998e-01, -4.53223504e-02],\n",
       "       [-5.07467499e-01,  8.31343014e-02, -4.20546864e-01],\n",
       "       [-9.44532109e-01, -5.99920511e-01, -8.69162581e-02],\n",
       "       [-2.83723311e-01, -1.83858787e-01,  5.34439608e-01],\n",
       "       [-7.59089813e-01, -4.60052280e-01, -6.21749347e-02],\n",
       "       [-6.11008577e-01, -2.38169559e-01, -1.17149764e-01],\n",
       "       [-4.99515599e-01, -3.51945227e-01,  1.52433169e-01],\n",
       "       [-6.19289734e-01, -1.87823927e-01, -3.34458596e-01],\n",
       "       [-6.95504664e-01, -1.52477763e-01, -2.63085860e-01],\n",
       "       [-8.65463376e-01, -2.62824313e-01, -7.19078093e-02],\n",
       "       [-4.16230921e-01, -1.15275917e-01, -1.36089853e-01],\n",
       "       [-5.19531682e-01, -1.26953704e-01, -7.96673258e-02],\n",
       "       [-5.68369614e-01, -3.72505830e-01,  2.20449518e-01],\n",
       "       [-5.66786923e-01, -5.08544912e-01,  2.98755548e-01],\n",
       "       [-5.04254070e-01, -3.41541268e-01,  2.79301888e-01],\n",
       "       [-8.97853052e-01, -5.48000954e-01,  1.88133102e-03],\n",
       "       [-5.24079646e-01, -2.72016022e-01, -4.16785685e-02],\n",
       "       [-7.83772735e-01, -1.56592663e-01, -1.43755643e-01],\n",
       "       [-2.90371754e-01, -7.77635707e-02,  2.05865895e-01],\n",
       "       [-6.36046724e-01,  6.51977484e-02, -4.55408340e-02],\n",
       "       [-3.99646845e-01,  1.58460737e-01,  8.85900158e-02],\n",
       "       [-4.62175126e-01,  1.23982715e-01,  2.54577884e-01],\n",
       "       [-4.52104029e-01, -1.21947255e-01,  7.45902941e-02],\n",
       "       [-2.57972309e-01,  4.30487368e-02, -2.68365363e-01],\n",
       "       [-5.76280641e-01, -1.11694600e-01,  4.59468982e-01],\n",
       "       [-5.45503817e-01, -8.63253723e-03, -2.43939979e-01],\n",
       "       [-6.58854598e-01, -2.22640528e-01,  3.82867306e-01],\n",
       "       [-6.63036281e-01, -3.07817072e-01, -6.90785865e-02],\n",
       "       [-4.08841128e-01,  2.47488579e-02,  7.71011498e-02],\n",
       "       [-4.69511737e-01, -3.32648285e-01,  4.54040234e-01],\n",
       "       [-3.49221035e-01, -1.36025101e-01,  2.31261776e-01],\n",
       "       [-5.00080753e-01, -2.91250491e-04,  6.36680644e-02],\n",
       "       [-3.47309642e-01, -1.38569014e-01,  2.89264655e-01],\n",
       "       [-2.59629683e-01, -4.74520462e-03,  1.17622224e-01],\n",
       "       [-3.33299177e-01,  1.96667883e-01, -2.67288072e-01],\n",
       "       [-6.34683554e-01, -4.63896981e-01, -1.22614420e-01],\n",
       "       [-6.68306179e-01, -1.49962972e-01, -1.12074020e-01],\n",
       "       [-1.61668990e-01, -6.30308177e-02, -2.42880811e-01],\n",
       "       [-7.83257132e-01, -2.40306820e-01, -7.44007017e-02],\n",
       "       [-1.21938349e-01, -1.14058633e-01, -1.26489110e-01],\n",
       "       [-5.19422540e-01,  4.57323910e-02, -2.89497700e-01],\n",
       "       [-2.83286568e-01, -4.40027214e-01,  3.15976352e-03],\n",
       "       [-6.85802870e-01, -2.76653972e-01, -1.55807301e-01],\n",
       "       [-7.12576232e-01, -1.21218865e-01, -3.76865027e-01],\n",
       "       [-5.23166550e-01, -2.62127187e-01,  7.77274558e-03],\n",
       "       [-7.02825869e-01, -3.84955596e-01, -1.55076727e-01],\n",
       "       [-7.34752181e-01, -1.29483424e-01,  1.06562527e-01],\n",
       "       [-8.76058105e-01, -3.42320078e-01, -1.19045945e-01],\n",
       "       [-5.49211758e-01, -4.05969572e-01,  2.30235292e-01],\n",
       "       [-5.22056466e-01, -2.25728659e-01, -2.59265608e-01],\n",
       "       [-6.20383971e-01, -2.74512883e-01,  4.35049095e-02],\n",
       "       [-6.81250282e-01, -3.09760802e-01, -1.91516049e-01],\n",
       "       [-5.51511436e-01, -2.57326272e-01,  1.63909842e-01],\n",
       "       [-7.93616064e-01, -3.66934163e-01, -9.77457970e-02],\n",
       "       [ 4.62279621e-01,  3.23047874e-01,  7.50569792e-02],\n",
       "       [ 5.10203601e-01,  1.64296137e-01, -2.77193789e-01],\n",
       "       [ 4.99103473e-02,  2.98040977e-01, -3.25558775e-01],\n",
       "       [-4.99094379e-01,  4.85752852e-01, -1.20136111e-01],\n",
       "       [ 1.77344786e-01,  4.47620399e-01,  3.61336655e-01],\n",
       "       [-2.36718654e-01,  2.07383444e-01,  2.12435744e-01],\n",
       "       [-2.46009407e-02,  5.86782688e-01, -3.23772177e-01],\n",
       "       [ 2.74316820e-01,  6.89907119e-02,  5.65945769e-02],\n",
       "       [ 4.37839908e-01,  2.01456042e-01, -8.37723577e-02],\n",
       "       [-4.57210743e-01,  2.84441259e-01,  4.84331917e-01],\n",
       "       [ 1.76271386e-01,  2.64348394e-01,  2.91247271e-03],\n",
       "       [-3.97101470e-01,  3.49498972e-01, -2.77689630e-02],\n",
       "       [ 2.79431530e-01,  5.32499060e-01, -3.35232342e-01],\n",
       "       [ 4.11897979e-01,  2.83020037e-01, -2.96603806e-02],\n",
       "       [-1.17392078e-01,  2.43468823e-01,  3.58762487e-01],\n",
       "       [-1.61490570e-01,  8.23225457e-01, -1.14381965e-01],\n",
       "       [-2.59347237e-01,  3.60521471e-01, -1.03946002e-01],\n",
       "       [ 1.29277640e-01,  6.11865872e-01,  4.20690508e-01],\n",
       "       [ 5.96574983e-01, -1.31464786e-02,  1.45888250e-01],\n",
       "       [-2.22551663e-01,  3.85716050e-01,  6.12645161e-02],\n",
       "       [-1.67810126e-01,  5.04764706e-01, -2.38287272e-02],\n",
       "       [ 2.11848560e-01,  5.46442902e-01,  2.63975285e-01],\n",
       "       [ 2.77057708e-01,  4.45019685e-01,  2.66902367e-01],\n",
       "       [ 1.42007607e-01,  6.84967445e-01,  2.00469897e-01],\n",
       "       [ 3.41064921e-01,  5.07062979e-01,  9.61674754e-02],\n",
       "       [ 3.78678958e-01,  4.56097353e-01,  2.42879615e-01],\n",
       "       [ 4.66230485e-01,  3.87742260e-01,  7.93243573e-02],\n",
       "       [-1.79834781e-01,  5.36670974e-01, -5.49740359e-02],\n",
       "       [-1.91173998e-01,  5.12490711e-01, -5.47613316e-02],\n",
       "       [-2.28006726e-01,  6.16389042e-01, -2.86939508e-01],\n",
       "       [-5.69666799e-01,  3.83808260e-01, -2.05649576e-01],\n",
       "       [ 1.82725947e-01,  5.43502196e-01, -3.62001912e-01],\n",
       "       [ 3.30274627e-02,  2.85212691e-01,  1.46005825e-01],\n",
       "       [ 2.16649109e-01,  6.38373269e-01, -2.86478102e-01],\n",
       "       [-7.84355326e-02,  5.24918729e-01, -1.99615344e-01],\n",
       "       [ 3.94422047e-01,  4.24850544e-01,  2.03803100e-01],\n",
       "       [ 8.04859635e-02,  5.24689072e-01, -1.48341554e-01],\n",
       "       [ 3.72578969e-01,  3.38411681e-01,  8.18904941e-02],\n",
       "       [-1.46878617e-02,  5.74637782e-01, -2.67125048e-01],\n",
       "       [-4.29574139e-01,  4.05443228e-01,  3.40374608e-01],\n",
       "       [ 8.12233837e-02,  4.52227486e-01, -8.93177183e-02],\n",
       "       [ 2.98024077e-01,  1.71941976e-01,  6.95793799e-01],\n",
       "       [ 1.22502004e-01,  5.72725421e-01,  2.83802426e-01],\n",
       "       [ 9.97069313e-02,  4.99670749e-01,  2.87667940e-01],\n",
       "       [ 9.14626172e-02,  6.90321296e-01, -1.95653768e-01],\n",
       "       [ 2.84646660e-02,  4.77508246e-01,  8.14579684e-02],\n",
       "       [ 6.41067693e-01,  2.27582437e-01, -4.38140243e-01],\n",
       "       [ 1.63154699e-01,  5.07989878e-01, -1.89065069e-01],\n",
       "       [-2.00301441e-01,  3.53866138e-01,  9.78743377e-02],\n",
       "       [ 5.23007143e-03,  5.17487297e-01, -3.90761041e-02],\n",
       "       [-6.54466006e-02,  3.37149391e-01, -2.63512028e-03],\n",
       "       [ 7.83344239e-02,  5.02638094e-01,  1.89751673e-01],\n",
       "       [ 4.40261512e-01,  2.33705533e-01,  1.31151845e-01],\n",
       "       [ 3.99362148e-01, -8.33322137e-02, -2.19635660e-01],\n",
       "       [ 6.25985025e-01, -1.69939490e-01, -1.26667759e-01],\n",
       "       [ 7.45714158e-01, -1.14989840e-01, -3.18174523e-02],\n",
       "       [ 5.88294084e-01, -1.77398936e-01, -1.12833693e-01],\n",
       "       [ 6.38235584e-01,  1.03714226e-01, -1.37204641e-01],\n",
       "       [ 7.97445753e-01, -1.30206261e-01, -1.56499186e-01],\n",
       "       [ 1.01188865e+00, -1.26368222e-01,  1.93513456e-01],\n",
       "       [ 8.04273140e-01, -1.45101004e-01, -1.22799371e-01],\n",
       "       [ 6.22650941e-01, -9.03143793e-02,  3.88140195e-01],\n",
       "       [ 7.07047701e-01, -9.78069293e-02,  3.05948972e-01],\n",
       "       [ 6.07500415e-01, -1.26909106e-01, -1.39222995e-01],\n",
       "       [ 7.56250144e-01, -1.53281672e-01,  4.12486638e-01],\n",
       "       [ 6.24134025e-01, -1.96684440e-01,  3.68313416e-02],\n",
       "       [ 6.03272087e-01, -3.80121025e-01, -3.46531242e-01],\n",
       "       [ 7.04092754e-01, -1.86165392e-01, -1.97262153e-01],\n",
       "       [ 8.98486751e-01, -3.95616945e-01, -6.45438859e-03],\n",
       "       [ 7.09775618e-01, -4.32367282e-01, -1.09122329e-01],\n",
       "       [ 7.18474853e-01, -5.91192199e-01, -1.66514676e-01],\n",
       "       [ 5.61146238e-01, -6.39505270e-01,  6.39134173e-02],\n",
       "       [ 7.14444611e-01, -1.20853524e-01, -2.88431200e-01],\n",
       "       [ 7.09742345e-01, -5.43188437e-01, -1.64300964e-01],\n",
       "       [ 8.00563194e-01, -2.50571031e-01, -5.15810988e-02],\n",
       "       [ 6.00258573e-01, -3.32894912e-01,  1.71717507e-01],\n",
       "       [ 7.22718510e-01, -1.73690464e-01,  3.19298996e-01],\n",
       "       [ 6.91415959e-01, -2.41781902e-01, -1.36544274e-01],\n",
       "       [ 7.38135862e-01, -4.33715454e-01, -1.79705892e-01],\n",
       "       [ 8.84634494e-01, -2.90655178e-01, -3.97280595e-02],\n",
       "       [ 7.51131081e-01, -3.95951255e-01, -2.48248729e-01],\n",
       "       [ 5.30087523e-01, -5.24957744e-01,  2.41243155e-01],\n",
       "       [ 5.88830880e-01, -7.04127807e-01,  3.34616810e-01],\n",
       "       [ 8.44385398e-01, -1.87288869e-02, -1.56728409e-01],\n",
       "       [ 9.32031956e-01, -2.78166937e-01, -2.71842031e-01],\n",
       "       [ 6.13246200e-01, -5.70347393e-01, -1.19848076e-01],\n",
       "       [ 6.62386661e-01, -4.81831871e-01,  8.23706471e-02],\n",
       "       [ 6.97933060e-01, -7.62292046e-01, -2.45430017e-01],\n",
       "       [ 6.17741110e-01, -5.95330018e-01, -9.46674772e-02],\n",
       "       [ 7.67411983e-01, -7.16232665e-01,  3.14920800e-01]])"
      ]
     },
     "execution_count": 20,
     "metadata": {},
     "output_type": "execute_result"
    }
   ],
   "source": [
    "#First 3 principal components have more contribution i.e about 72%.\n",
    "#So we are considering first 3 components for the building model.\n",
    "pca_values[:,:3]"
   ]
  },
  {
   "cell_type": "code",
   "execution_count": 21,
   "id": "dcd523bf",
   "metadata": {},
   "outputs": [
    {
     "data": {
      "text/html": [
       "<div>\n",
       "<style scoped>\n",
       "    .dataframe tbody tr th:only-of-type {\n",
       "        vertical-align: middle;\n",
       "    }\n",
       "\n",
       "    .dataframe tbody tr th {\n",
       "        vertical-align: top;\n",
       "    }\n",
       "\n",
       "    .dataframe thead th {\n",
       "        text-align: right;\n",
       "    }\n",
       "</style>\n",
       "<table border=\"1\" class=\"dataframe\">\n",
       "  <thead>\n",
       "    <tr style=\"text-align: right;\">\n",
       "      <th></th>\n",
       "      <th>PC1</th>\n",
       "      <th>PC2</th>\n",
       "      <th>PC3</th>\n",
       "    </tr>\n",
       "  </thead>\n",
       "  <tbody>\n",
       "    <tr>\n",
       "      <th>0</th>\n",
       "      <td>-0.840108</td>\n",
       "      <td>-0.297656</td>\n",
       "      <td>-0.045322</td>\n",
       "    </tr>\n",
       "    <tr>\n",
       "      <th>1</th>\n",
       "      <td>-0.507467</td>\n",
       "      <td>0.083134</td>\n",
       "      <td>-0.420547</td>\n",
       "    </tr>\n",
       "    <tr>\n",
       "      <th>2</th>\n",
       "      <td>-0.944532</td>\n",
       "      <td>-0.599921</td>\n",
       "      <td>-0.086916</td>\n",
       "    </tr>\n",
       "    <tr>\n",
       "      <th>3</th>\n",
       "      <td>-0.283723</td>\n",
       "      <td>-0.183859</td>\n",
       "      <td>0.534440</td>\n",
       "    </tr>\n",
       "    <tr>\n",
       "      <th>4</th>\n",
       "      <td>-0.759090</td>\n",
       "      <td>-0.460052</td>\n",
       "      <td>-0.062175</td>\n",
       "    </tr>\n",
       "    <tr>\n",
       "      <th>5</th>\n",
       "      <td>-0.611009</td>\n",
       "      <td>-0.238170</td>\n",
       "      <td>-0.117150</td>\n",
       "    </tr>\n",
       "    <tr>\n",
       "      <th>6</th>\n",
       "      <td>-0.499516</td>\n",
       "      <td>-0.351945</td>\n",
       "      <td>0.152433</td>\n",
       "    </tr>\n",
       "    <tr>\n",
       "      <th>7</th>\n",
       "      <td>-0.619290</td>\n",
       "      <td>-0.187824</td>\n",
       "      <td>-0.334459</td>\n",
       "    </tr>\n",
       "    <tr>\n",
       "      <th>8</th>\n",
       "      <td>-0.695505</td>\n",
       "      <td>-0.152478</td>\n",
       "      <td>-0.263086</td>\n",
       "    </tr>\n",
       "    <tr>\n",
       "      <th>9</th>\n",
       "      <td>-0.865463</td>\n",
       "      <td>-0.262824</td>\n",
       "      <td>-0.071908</td>\n",
       "    </tr>\n",
       "  </tbody>\n",
       "</table>\n",
       "</div>"
      ],
      "text/plain": [
       "        PC1       PC2       PC3\n",
       "0 -0.840108 -0.297656 -0.045322\n",
       "1 -0.507467  0.083134 -0.420547\n",
       "2 -0.944532 -0.599921 -0.086916\n",
       "3 -0.283723 -0.183859  0.534440\n",
       "4 -0.759090 -0.460052 -0.062175\n",
       "5 -0.611009 -0.238170 -0.117150\n",
       "6 -0.499516 -0.351945  0.152433\n",
       "7 -0.619290 -0.187824 -0.334459\n",
       "8 -0.695505 -0.152478 -0.263086\n",
       "9 -0.865463 -0.262824 -0.071908"
      ]
     },
     "execution_count": 21,
     "metadata": {},
     "output_type": "execute_result"
    }
   ],
   "source": [
    "#Creating dataset using PCA (first 3 components)\n",
    "wine_data_pca =pd.DataFrame(pca_values[:,:3], columns=['PC1', 'PC2', 'PC3'])\n",
    "wine_data_pca.head(10)"
   ]
  },
  {
   "cell_type": "code",
   "execution_count": 22,
   "id": "e816fa8b",
   "metadata": {},
   "outputs": [
    {
     "data": {
      "text/plain": [
       "<AxesSubplot:>"
      ]
     },
     "execution_count": 22,
     "metadata": {},
     "output_type": "execute_result"
    },
    {
     "data": {
      "image/png": "[encoded data removed]",
      "text/plain": [
       "<Figure size 720x576 with 1 Axes>"
      ]
     },
     "metadata": {
      "needs_background": "light"
     },
     "output_type": "display_data"
    }
   ],
   "source": [
    "# Visualization of PCAs\n",
    "fig=plt.figure(figsize=(10,8))\n",
    "sns.scatterplot(data=wine_data_pca)"
   ]
  },
  {
   "cell_type": "markdown",
   "id": "1382d5c3",
   "metadata": {},
   "source": [
    "# Checking with other Clustering Algorithms"
   ]
  },
  {
   "cell_type": "markdown",
   "id": "b0967349",
   "metadata": {},
   "source": [
    "# Hierarchical Clustering with PCA"
   ]
  },
  {
   "cell_type": "code",
   "execution_count": 23,
   "id": "1189e4b3",
   "metadata": {},
   "outputs": [
    {
     "data": {
      "image/png": "[encoded data removed]",
      "text/plain": [
       "<Figure size 1440x720 with 1 Axes>"
      ]
     },
     "metadata": {
      "needs_background": "light"
     },
     "output_type": "display_data"
    }
   ],
   "source": [
    "#Building Model\n",
    "plt.figure(figsize=(20,10))\n",
    "dendrogram=sch.dendrogram(sch.linkage(wine_data_pca, method='average'))"
   ]
  },
  {
   "cell_type": "code",
   "execution_count": 24,
   "id": "017cfbaf",
   "metadata": {},
   "outputs": [],
   "source": [
    "#From above dendrogram, we can see that '3' number of clusters are formed.\n",
    "hc = AgglomerativeClustering(n_clusters=3)"
   ]
  },
  {
   "cell_type": "code",
   "execution_count": 25,
   "id": "d4b672aa",
   "metadata": {},
   "outputs": [
    {
     "data": {
      "text/plain": [
       "array([1, 1, 1, 1, 1, 1, 1, 1, 1, 1, 1, 1, 1, 1, 1, 1, 1, 1, 1, 1, 1, 1,\n",
       "       1, 1, 1, 1, 1, 1, 1, 1, 1, 1, 1, 1, 1, 1, 1, 1, 1, 1, 1, 1, 1, 1,\n",
       "       1, 1, 1, 1, 1, 1, 1, 1, 1, 1, 0, 0, 0, 0, 0, 1, 0, 0, 0, 1, 0, 0,\n",
       "       0, 0, 1, 0, 0, 0, 2, 0, 0, 0, 0, 0, 0, 0, 0, 0, 0, 0, 0, 0, 0, 0,\n",
       "       0, 0, 0, 0, 0, 1, 0, 0, 0, 0, 0, 0, 0, 0, 0, 0, 0, 0, 0, 2, 2, 2,\n",
       "       2, 0, 2, 2, 2, 2, 2, 2, 2, 2, 2, 2, 2, 2, 2, 2, 2, 2, 2, 2, 2, 2,\n",
       "       2, 2, 2, 2, 2, 2, 2, 2, 2, 2, 2, 2], dtype=int64)"
      ]
     },
     "execution_count": 25,
     "metadata": {},
     "output_type": "execute_result"
    }
   ],
   "source": [
    "wine_data_hc=hc.fit(wine_data_pca)\n",
    "wine_data_hc.labels_"
   ]
  },
  {
   "cell_type": "code",
   "execution_count": 26,
   "id": "f06162a1",
   "metadata": {},
   "outputs": [
    {
     "data": {
      "text/plain": [
       "0.477"
      ]
     },
     "execution_count": 26,
     "metadata": {},
     "output_type": "execute_result"
    }
   ],
   "source": [
    "#Calculating 'Silhouette' Score\n",
    "import sklearn\n",
    "round(sklearn.metrics.silhouette_score(wine_data_pca, wine_data_hc.labels_),4)"
   ]
  },
  {
   "cell_type": "code",
   "execution_count": 27,
   "id": "8a70fa5c",
   "metadata": {},
   "outputs": [
    {
     "data": {
      "text/html": [
       "<div>\n",
       "<style scoped>\n",
       "    .dataframe tbody tr th:only-of-type {\n",
       "        vertical-align: middle;\n",
       "    }\n",
       "\n",
       "    .dataframe tbody tr th {\n",
       "        vertical-align: top;\n",
       "    }\n",
       "\n",
       "    .dataframe thead th {\n",
       "        text-align: right;\n",
       "    }\n",
       "</style>\n",
       "<table border=\"1\" class=\"dataframe\">\n",
       "  <thead>\n",
       "    <tr style=\"text-align: right;\">\n",
       "      <th></th>\n",
       "      <th>PC1</th>\n",
       "      <th>PC2</th>\n",
       "      <th>PC3</th>\n",
       "      <th>ClusterID_HC</th>\n",
       "    </tr>\n",
       "  </thead>\n",
       "  <tbody>\n",
       "    <tr>\n",
       "      <th>0</th>\n",
       "      <td>-0.840108</td>\n",
       "      <td>-0.297656</td>\n",
       "      <td>-0.045322</td>\n",
       "      <td>1</td>\n",
       "    </tr>\n",
       "    <tr>\n",
       "      <th>1</th>\n",
       "      <td>-0.507467</td>\n",
       "      <td>0.083134</td>\n",
       "      <td>-0.420547</td>\n",
       "      <td>1</td>\n",
       "    </tr>\n",
       "    <tr>\n",
       "      <th>2</th>\n",
       "      <td>-0.944532</td>\n",
       "      <td>-0.599921</td>\n",
       "      <td>-0.086916</td>\n",
       "      <td>1</td>\n",
       "    </tr>\n",
       "    <tr>\n",
       "      <th>3</th>\n",
       "      <td>-0.283723</td>\n",
       "      <td>-0.183859</td>\n",
       "      <td>0.534440</td>\n",
       "      <td>1</td>\n",
       "    </tr>\n",
       "    <tr>\n",
       "      <th>4</th>\n",
       "      <td>-0.759090</td>\n",
       "      <td>-0.460052</td>\n",
       "      <td>-0.062175</td>\n",
       "      <td>1</td>\n",
       "    </tr>\n",
       "  </tbody>\n",
       "</table>\n",
       "</div>"
      ],
      "text/plain": [
       "        PC1       PC2       PC3  ClusterID_HC\n",
       "0 -0.840108 -0.297656 -0.045322             1\n",
       "1 -0.507467  0.083134 -0.420547             1\n",
       "2 -0.944532 -0.599921 -0.086916             1\n",
       "3 -0.283723 -0.183859  0.534440             1\n",
       "4 -0.759090 -0.460052 -0.062175             1"
      ]
     },
     "execution_count": 27,
     "metadata": {},
     "output_type": "execute_result"
    }
   ],
   "source": [
    "#Adding Cluster column in the data\n",
    "wine_data_pca['ClusterID_HC']=wine_data_hc.labels_\n",
    "wine_data_pca.head()"
   ]
  },
  {
   "cell_type": "code",
   "execution_count": 28,
   "id": "bc8602ff",
   "metadata": {},
   "outputs": [
    {
     "data": {
      "text/html": [
       "<div>\n",
       "<style scoped>\n",
       "    .dataframe tbody tr th:only-of-type {\n",
       "        vertical-align: middle;\n",
       "    }\n",
       "\n",
       "    .dataframe tbody tr th {\n",
       "        vertical-align: top;\n",
       "    }\n",
       "\n",
       "    .dataframe thead th {\n",
       "        text-align: right;\n",
       "    }\n",
       "</style>\n",
       "<table border=\"1\" class=\"dataframe\">\n",
       "  <thead>\n",
       "    <tr style=\"text-align: right;\">\n",
       "      <th></th>\n",
       "      <th>PC1</th>\n",
       "      <th>PC2</th>\n",
       "      <th>PC3</th>\n",
       "    </tr>\n",
       "    <tr>\n",
       "      <th>ClusterID_HC</th>\n",
       "      <th></th>\n",
       "      <th></th>\n",
       "      <th></th>\n",
       "    </tr>\n",
       "  </thead>\n",
       "  <tbody>\n",
       "    <tr>\n",
       "      <th>0</th>\n",
       "      <td>0.110891</td>\n",
       "      <td>0.434107</td>\n",
       "      <td>-0.008071</td>\n",
       "    </tr>\n",
       "    <tr>\n",
       "      <th>1</th>\n",
       "      <td>-0.541089</td>\n",
       "      <td>-0.165267</td>\n",
       "      <td>0.019258</td>\n",
       "    </tr>\n",
       "    <tr>\n",
       "      <th>2</th>\n",
       "      <td>0.701337</td>\n",
       "      <td>-0.315831</td>\n",
       "      <td>-0.019501</td>\n",
       "    </tr>\n",
       "  </tbody>\n",
       "</table>\n",
       "</div>"
      ],
      "text/plain": [
       "                   PC1       PC2       PC3\n",
       "ClusterID_HC                              \n",
       "0             0.110891  0.434107 -0.008071\n",
       "1            -0.541089 -0.165267  0.019258\n",
       "2             0.701337 -0.315831 -0.019501"
      ]
     },
     "execution_count": 28,
     "metadata": {},
     "output_type": "execute_result"
    }
   ],
   "source": [
    "#Grouping clusters\n",
    "wine_data_pca.groupby('ClusterID_HC').mean()"
   ]
  },
  {
   "cell_type": "code",
   "execution_count": 29,
   "id": "d40938d7",
   "metadata": {},
   "outputs": [
    {
     "data": {
      "text/plain": [
       "1    58\n",
       "0    49\n",
       "2    37\n",
       "Name: ClusterID_HC, dtype: int64"
      ]
     },
     "execution_count": 29,
     "metadata": {},
     "output_type": "execute_result"
    }
   ],
   "source": [
    "wine_data_pca['ClusterID_HC'].value_counts()\n"
   ]
  },
  {
   "cell_type": "markdown",
   "id": "092ee520",
   "metadata": {},
   "source": [
    "# Hierarchical Clustering without PCA"
   ]
  },
  {
   "cell_type": "code",
   "execution_count": 30,
   "id": "64886558",
   "metadata": {},
   "outputs": [
    {
     "data": {
      "text/html": [
       "<div>\n",
       "<style scoped>\n",
       "    .dataframe tbody tr th:only-of-type {\n",
       "        vertical-align: middle;\n",
       "    }\n",
       "\n",
       "    .dataframe tbody tr th {\n",
       "        vertical-align: top;\n",
       "    }\n",
       "\n",
       "    .dataframe thead th {\n",
       "        text-align: right;\n",
       "    }\n",
       "</style>\n",
       "<table border=\"1\" class=\"dataframe\">\n",
       "  <thead>\n",
       "    <tr style=\"text-align: right;\">\n",
       "      <th></th>\n",
       "      <th>Alcohol</th>\n",
       "      <th>Malic</th>\n",
       "      <th>Ash</th>\n",
       "      <th>Alcalinity</th>\n",
       "      <th>Magnesium</th>\n",
       "      <th>Phenols</th>\n",
       "      <th>Flavanoids</th>\n",
       "      <th>Nonflavanoids</th>\n",
       "      <th>Proanthocyanins</th>\n",
       "      <th>Color</th>\n",
       "      <th>Hue</th>\n",
       "      <th>Dilution</th>\n",
       "      <th>Proline</th>\n",
       "    </tr>\n",
       "  </thead>\n",
       "  <tbody>\n",
       "    <tr>\n",
       "      <th>0</th>\n",
       "      <td>0.824561</td>\n",
       "      <td>0.230404</td>\n",
       "      <td>0.528846</td>\n",
       "      <td>0.318841</td>\n",
       "      <td>0.919355</td>\n",
       "      <td>0.611511</td>\n",
       "      <td>0.748555</td>\n",
       "      <td>0.283019</td>\n",
       "      <td>0.903846</td>\n",
       "      <td>0.485523</td>\n",
       "      <td>0.549451</td>\n",
       "      <td>0.970696</td>\n",
       "      <td>0.561341</td>\n",
       "    </tr>\n",
       "    <tr>\n",
       "      <th>1</th>\n",
       "      <td>0.523392</td>\n",
       "      <td>0.247031</td>\n",
       "      <td>0.250000</td>\n",
       "      <td>0.000000</td>\n",
       "      <td>0.483871</td>\n",
       "      <td>0.557554</td>\n",
       "      <td>0.661850</td>\n",
       "      <td>0.245283</td>\n",
       "      <td>0.418269</td>\n",
       "      <td>0.345212</td>\n",
       "      <td>0.560440</td>\n",
       "      <td>0.780220</td>\n",
       "      <td>0.550642</td>\n",
       "    </tr>\n",
       "    <tr>\n",
       "      <th>2</th>\n",
       "      <td>0.865497</td>\n",
       "      <td>0.287411</td>\n",
       "      <td>0.596154</td>\n",
       "      <td>0.405797</td>\n",
       "      <td>0.693548</td>\n",
       "      <td>0.989209</td>\n",
       "      <td>0.872832</td>\n",
       "      <td>0.207547</td>\n",
       "      <td>0.850962</td>\n",
       "      <td>0.726058</td>\n",
       "      <td>0.351648</td>\n",
       "      <td>0.798535</td>\n",
       "      <td>0.857347</td>\n",
       "    </tr>\n",
       "    <tr>\n",
       "      <th>3</th>\n",
       "      <td>0.535088</td>\n",
       "      <td>0.439430</td>\n",
       "      <td>0.951923</td>\n",
       "      <td>0.710145</td>\n",
       "      <td>0.774194</td>\n",
       "      <td>0.611511</td>\n",
       "      <td>0.641618</td>\n",
       "      <td>0.490566</td>\n",
       "      <td>0.677885</td>\n",
       "      <td>0.338530</td>\n",
       "      <td>0.549451</td>\n",
       "      <td>0.608059</td>\n",
       "      <td>0.325963</td>\n",
       "    </tr>\n",
       "    <tr>\n",
       "      <th>4</th>\n",
       "      <td>0.815789</td>\n",
       "      <td>0.242280</td>\n",
       "      <td>0.548077</td>\n",
       "      <td>0.289855</td>\n",
       "      <td>0.677419</td>\n",
       "      <td>0.780576</td>\n",
       "      <td>0.843931</td>\n",
       "      <td>0.396226</td>\n",
       "      <td>0.750000</td>\n",
       "      <td>0.609131</td>\n",
       "      <td>0.560440</td>\n",
       "      <td>0.578755</td>\n",
       "      <td>0.835949</td>\n",
       "    </tr>\n",
       "  </tbody>\n",
       "</table>\n",
       "</div>"
      ],
      "text/plain": [
       "    Alcohol     Malic       Ash  Alcalinity  Magnesium   Phenols  Flavanoids  \\\n",
       "0  0.824561  0.230404  0.528846    0.318841   0.919355  0.611511    0.748555   \n",
       "1  0.523392  0.247031  0.250000    0.000000   0.483871  0.557554    0.661850   \n",
       "2  0.865497  0.287411  0.596154    0.405797   0.693548  0.989209    0.872832   \n",
       "3  0.535088  0.439430  0.951923    0.710145   0.774194  0.611511    0.641618   \n",
       "4  0.815789  0.242280  0.548077    0.289855   0.677419  0.780576    0.843931   \n",
       "\n",
       "   Nonflavanoids  Proanthocyanins     Color       Hue  Dilution   Proline  \n",
       "0       0.283019         0.903846  0.485523  0.549451  0.970696  0.561341  \n",
       "1       0.245283         0.418269  0.345212  0.560440  0.780220  0.550642  \n",
       "2       0.207547         0.850962  0.726058  0.351648  0.798535  0.857347  \n",
       "3       0.490566         0.677885  0.338530  0.549451  0.608059  0.325963  \n",
       "4       0.396226         0.750000  0.609131  0.560440  0.578755  0.835949  "
      ]
     },
     "execution_count": 30,
     "metadata": {},
     "output_type": "execute_result"
    }
   ],
   "source": [
    "#Hierarchical Clustering without PCA\n",
    "data_std.head()"
   ]
  },
  {
   "cell_type": "code",
   "execution_count": 31,
   "id": "e47ec419",
   "metadata": {},
   "outputs": [
    {
     "data": {
      "image/png": "[encoded data removed]",
      "text/plain": [
       "<Figure size 1440x720 with 1 Axes>"
      ]
     },
     "metadata": {
      "needs_background": "light"
     },
     "output_type": "display_data"
    }
   ],
   "source": [
    "plt.figure(figsize=(20,10))\n",
    "dendrogram=sch.dendrogram(sch.linkage(data_std, method='average'))"
   ]
  },
  {
   "cell_type": "code",
   "execution_count": 32,
   "id": "bab16bac",
   "metadata": {},
   "outputs": [],
   "source": [
    "#From above dendrogram, we are selecting number of clusters as '7'.\n",
    "hc=AgglomerativeClustering(n_clusters=7)"
   ]
  },
  {
   "cell_type": "code",
   "execution_count": 33,
   "id": "cbf487eb",
   "metadata": {},
   "outputs": [
    {
     "data": {
      "text/plain": [
       "array([2, 4, 2, 4, 2, 4, 4, 4, 2, 2, 4, 4, 4, 4, 4, 2, 2, 2, 1, 4, 4, 4,\n",
       "       4, 4, 4, 4, 2, 2, 4, 4, 4, 4, 4, 4, 4, 2, 2, 1, 4, 1, 2, 1, 2, 2,\n",
       "       2, 2, 4, 2, 4, 2, 2, 2, 4, 2, 0, 0, 5, 1, 6, 4, 5, 0, 0, 1, 5, 1,\n",
       "       5, 5, 1, 5, 5, 6, 0, 1, 5, 6, 6, 6, 6, 6, 6, 5, 5, 5, 1, 5, 1, 5,\n",
       "       5, 6, 5, 6, 5, 1, 1, 6, 6, 6, 5, 5, 0, 1, 1, 1, 1, 1, 1, 0, 0, 0,\n",
       "       0, 0, 0, 0, 0, 0, 0, 0, 0, 0, 3, 0, 0, 3, 3, 3, 0, 3, 0, 0, 0, 0,\n",
       "       3, 0, 3, 3, 3, 0, 3, 3, 3, 3, 3, 3], dtype=int64)"
      ]
     },
     "execution_count": 33,
     "metadata": {},
     "output_type": "execute_result"
    }
   ],
   "source": [
    "wine_data_hc1=hc.fit(data_std)\n",
    "wine_data_hc1.labels_"
   ]
  },
  {
   "cell_type": "code",
   "execution_count": 34,
   "id": "90b28654",
   "metadata": {},
   "outputs": [
    {
     "data": {
      "text/plain": [
       "0.1264"
      ]
     },
     "execution_count": 34,
     "metadata": {},
     "output_type": "execute_result"
    }
   ],
   "source": [
    "#Calculating 'Silhoutte' Score\n",
    "round(sklearn.metrics.silhouette_score(data_std, wine_data_hc1.labels_),4)"
   ]
  },
  {
   "cell_type": "code",
   "execution_count": 35,
   "id": "a0aed647",
   "metadata": {},
   "outputs": [
    {
     "data": {
      "text/html": [
       "<div>\n",
       "<style scoped>\n",
       "    .dataframe tbody tr th:only-of-type {\n",
       "        vertical-align: middle;\n",
       "    }\n",
       "\n",
       "    .dataframe tbody tr th {\n",
       "        vertical-align: top;\n",
       "    }\n",
       "\n",
       "    .dataframe thead th {\n",
       "        text-align: right;\n",
       "    }\n",
       "</style>\n",
       "<table border=\"1\" class=\"dataframe\">\n",
       "  <thead>\n",
       "    <tr style=\"text-align: right;\">\n",
       "      <th></th>\n",
       "      <th>Alcohol</th>\n",
       "      <th>Malic</th>\n",
       "      <th>Ash</th>\n",
       "      <th>Alcalinity</th>\n",
       "      <th>Magnesium</th>\n",
       "      <th>Phenols</th>\n",
       "      <th>Flavanoids</th>\n",
       "      <th>Nonflavanoids</th>\n",
       "      <th>Proanthocyanins</th>\n",
       "      <th>Color</th>\n",
       "      <th>Hue</th>\n",
       "      <th>Dilution</th>\n",
       "      <th>Proline</th>\n",
       "      <th>ClusterID</th>\n",
       "    </tr>\n",
       "  </thead>\n",
       "  <tbody>\n",
       "    <tr>\n",
       "      <th>0</th>\n",
       "      <td>0.824561</td>\n",
       "      <td>0.230404</td>\n",
       "      <td>0.528846</td>\n",
       "      <td>0.318841</td>\n",
       "      <td>0.919355</td>\n",
       "      <td>0.611511</td>\n",
       "      <td>0.748555</td>\n",
       "      <td>0.283019</td>\n",
       "      <td>0.903846</td>\n",
       "      <td>0.485523</td>\n",
       "      <td>0.549451</td>\n",
       "      <td>0.970696</td>\n",
       "      <td>0.561341</td>\n",
       "      <td>2</td>\n",
       "    </tr>\n",
       "    <tr>\n",
       "      <th>1</th>\n",
       "      <td>0.523392</td>\n",
       "      <td>0.247031</td>\n",
       "      <td>0.250000</td>\n",
       "      <td>0.000000</td>\n",
       "      <td>0.483871</td>\n",
       "      <td>0.557554</td>\n",
       "      <td>0.661850</td>\n",
       "      <td>0.245283</td>\n",
       "      <td>0.418269</td>\n",
       "      <td>0.345212</td>\n",
       "      <td>0.560440</td>\n",
       "      <td>0.780220</td>\n",
       "      <td>0.550642</td>\n",
       "      <td>4</td>\n",
       "    </tr>\n",
       "    <tr>\n",
       "      <th>2</th>\n",
       "      <td>0.865497</td>\n",
       "      <td>0.287411</td>\n",
       "      <td>0.596154</td>\n",
       "      <td>0.405797</td>\n",
       "      <td>0.693548</td>\n",
       "      <td>0.989209</td>\n",
       "      <td>0.872832</td>\n",
       "      <td>0.207547</td>\n",
       "      <td>0.850962</td>\n",
       "      <td>0.726058</td>\n",
       "      <td>0.351648</td>\n",
       "      <td>0.798535</td>\n",
       "      <td>0.857347</td>\n",
       "      <td>2</td>\n",
       "    </tr>\n",
       "    <tr>\n",
       "      <th>3</th>\n",
       "      <td>0.535088</td>\n",
       "      <td>0.439430</td>\n",
       "      <td>0.951923</td>\n",
       "      <td>0.710145</td>\n",
       "      <td>0.774194</td>\n",
       "      <td>0.611511</td>\n",
       "      <td>0.641618</td>\n",
       "      <td>0.490566</td>\n",
       "      <td>0.677885</td>\n",
       "      <td>0.338530</td>\n",
       "      <td>0.549451</td>\n",
       "      <td>0.608059</td>\n",
       "      <td>0.325963</td>\n",
       "      <td>4</td>\n",
       "    </tr>\n",
       "    <tr>\n",
       "      <th>4</th>\n",
       "      <td>0.815789</td>\n",
       "      <td>0.242280</td>\n",
       "      <td>0.548077</td>\n",
       "      <td>0.289855</td>\n",
       "      <td>0.677419</td>\n",
       "      <td>0.780576</td>\n",
       "      <td>0.843931</td>\n",
       "      <td>0.396226</td>\n",
       "      <td>0.750000</td>\n",
       "      <td>0.609131</td>\n",
       "      <td>0.560440</td>\n",
       "      <td>0.578755</td>\n",
       "      <td>0.835949</td>\n",
       "      <td>2</td>\n",
       "    </tr>\n",
       "  </tbody>\n",
       "</table>\n",
       "</div>"
      ],
      "text/plain": [
       "    Alcohol     Malic       Ash  Alcalinity  Magnesium   Phenols  Flavanoids  \\\n",
       "0  0.824561  0.230404  0.528846    0.318841   0.919355  0.611511    0.748555   \n",
       "1  0.523392  0.247031  0.250000    0.000000   0.483871  0.557554    0.661850   \n",
       "2  0.865497  0.287411  0.596154    0.405797   0.693548  0.989209    0.872832   \n",
       "3  0.535088  0.439430  0.951923    0.710145   0.774194  0.611511    0.641618   \n",
       "4  0.815789  0.242280  0.548077    0.289855   0.677419  0.780576    0.843931   \n",
       "\n",
       "   Nonflavanoids  Proanthocyanins     Color       Hue  Dilution   Proline  \\\n",
       "0       0.283019         0.903846  0.485523  0.549451  0.970696  0.561341   \n",
       "1       0.245283         0.418269  0.345212  0.560440  0.780220  0.550642   \n",
       "2       0.207547         0.850962  0.726058  0.351648  0.798535  0.857347   \n",
       "3       0.490566         0.677885  0.338530  0.549451  0.608059  0.325963   \n",
       "4       0.396226         0.750000  0.609131  0.560440  0.578755  0.835949   \n",
       "\n",
       "   ClusterID  \n",
       "0          2  \n",
       "1          4  \n",
       "2          2  \n",
       "3          4  \n",
       "4          2  "
      ]
     },
     "execution_count": 35,
     "metadata": {},
     "output_type": "execute_result"
    }
   ],
   "source": [
    "#Adding cluster column\n",
    "data_std['ClusterID']=wine_data_hc1.labels_\n",
    "data_std.head()"
   ]
  },
  {
   "cell_type": "code",
   "execution_count": 36,
   "id": "b96b217b",
   "metadata": {},
   "outputs": [
    {
     "data": {
      "text/html": [
       "<div>\n",
       "<style scoped>\n",
       "    .dataframe tbody tr th:only-of-type {\n",
       "        vertical-align: middle;\n",
       "    }\n",
       "\n",
       "    .dataframe tbody tr th {\n",
       "        vertical-align: top;\n",
       "    }\n",
       "\n",
       "    .dataframe thead th {\n",
       "        text-align: right;\n",
       "    }\n",
       "</style>\n",
       "<table border=\"1\" class=\"dataframe\">\n",
       "  <thead>\n",
       "    <tr style=\"text-align: right;\">\n",
       "      <th></th>\n",
       "      <th>Alcohol</th>\n",
       "      <th>Malic</th>\n",
       "      <th>Ash</th>\n",
       "      <th>Alcalinity</th>\n",
       "      <th>Magnesium</th>\n",
       "      <th>Phenols</th>\n",
       "      <th>Flavanoids</th>\n",
       "      <th>Nonflavanoids</th>\n",
       "      <th>Proanthocyanins</th>\n",
       "      <th>Color</th>\n",
       "      <th>Hue</th>\n",
       "      <th>Dilution</th>\n",
       "      <th>Proline</th>\n",
       "    </tr>\n",
       "    <tr>\n",
       "      <th>ClusterID</th>\n",
       "      <th></th>\n",
       "      <th></th>\n",
       "      <th></th>\n",
       "      <th></th>\n",
       "      <th></th>\n",
       "      <th></th>\n",
       "      <th></th>\n",
       "      <th></th>\n",
       "      <th></th>\n",
       "      <th></th>\n",
       "      <th></th>\n",
       "      <th></th>\n",
       "      <th></th>\n",
       "    </tr>\n",
       "  </thead>\n",
       "  <tbody>\n",
       "    <tr>\n",
       "      <th>0</th>\n",
       "      <td>0.435568</td>\n",
       "      <td>0.516712</td>\n",
       "      <td>0.449176</td>\n",
       "      <td>0.644669</td>\n",
       "      <td>0.438940</td>\n",
       "      <td>0.201053</td>\n",
       "      <td>0.102085</td>\n",
       "      <td>0.637466</td>\n",
       "      <td>0.242788</td>\n",
       "      <td>0.435611</td>\n",
       "      <td>0.272606</td>\n",
       "      <td>0.184328</td>\n",
       "      <td>0.240167</td>\n",
       "    </tr>\n",
       "    <tr>\n",
       "      <th>1</th>\n",
       "      <td>0.322099</td>\n",
       "      <td>0.410551</td>\n",
       "      <td>0.449393</td>\n",
       "      <td>0.669336</td>\n",
       "      <td>0.369270</td>\n",
       "      <td>0.572510</td>\n",
       "      <td>0.605111</td>\n",
       "      <td>0.322741</td>\n",
       "      <td>0.640435</td>\n",
       "      <td>0.226351</td>\n",
       "      <td>0.438404</td>\n",
       "      <td>0.659148</td>\n",
       "      <td>0.222464</td>\n",
       "    </tr>\n",
       "    <tr>\n",
       "      <th>2</th>\n",
       "      <td>0.732988</td>\n",
       "      <td>0.290434</td>\n",
       "      <td>0.475962</td>\n",
       "      <td>0.405138</td>\n",
       "      <td>0.666422</td>\n",
       "      <td>0.714192</td>\n",
       "      <td>0.802417</td>\n",
       "      <td>0.240137</td>\n",
       "      <td>0.805288</td>\n",
       "      <td>0.565651</td>\n",
       "      <td>0.523976</td>\n",
       "      <td>0.716450</td>\n",
       "      <td>0.615160</td>\n",
       "    </tr>\n",
       "    <tr>\n",
       "      <th>3</th>\n",
       "      <td>0.571540</td>\n",
       "      <td>0.637371</td>\n",
       "      <td>0.544872</td>\n",
       "      <td>0.748792</td>\n",
       "      <td>0.525806</td>\n",
       "      <td>0.190408</td>\n",
       "      <td>0.106166</td>\n",
       "      <td>0.524528</td>\n",
       "      <td>0.393910</td>\n",
       "      <td>0.868894</td>\n",
       "      <td>0.098901</td>\n",
       "      <td>0.138462</td>\n",
       "      <td>0.269139</td>\n",
       "    </tr>\n",
       "    <tr>\n",
       "      <th>4</th>\n",
       "      <td>0.645997</td>\n",
       "      <td>0.244082</td>\n",
       "      <td>0.612401</td>\n",
       "      <td>0.439530</td>\n",
       "      <td>0.543382</td>\n",
       "      <td>0.562019</td>\n",
       "      <td>0.664441</td>\n",
       "      <td>0.341574</td>\n",
       "      <td>0.606764</td>\n",
       "      <td>0.407035</td>\n",
       "      <td>0.623721</td>\n",
       "      <td>0.668814</td>\n",
       "      <td>0.588470</td>\n",
       "    </tr>\n",
       "    <tr>\n",
       "      <th>5</th>\n",
       "      <td>0.274204</td>\n",
       "      <td>0.215888</td>\n",
       "      <td>0.176816</td>\n",
       "      <td>0.570048</td>\n",
       "      <td>0.336022</td>\n",
       "      <td>0.371703</td>\n",
       "      <td>0.425177</td>\n",
       "      <td>0.339623</td>\n",
       "      <td>0.491186</td>\n",
       "      <td>0.188753</td>\n",
       "      <td>0.610501</td>\n",
       "      <td>0.614571</td>\n",
       "      <td>0.132826</td>\n",
       "    </tr>\n",
       "    <tr>\n",
       "      <th>6</th>\n",
       "      <td>0.201529</td>\n",
       "      <td>0.218162</td>\n",
       "      <td>0.528107</td>\n",
       "      <td>0.750279</td>\n",
       "      <td>0.263027</td>\n",
       "      <td>0.271168</td>\n",
       "      <td>0.363050</td>\n",
       "      <td>0.679245</td>\n",
       "      <td>0.475592</td>\n",
       "      <td>0.174148</td>\n",
       "      <td>0.611158</td>\n",
       "      <td>0.489152</td>\n",
       "      <td>0.154998</td>\n",
       "    </tr>\n",
       "  </tbody>\n",
       "</table>\n",
       "</div>"
      ],
      "text/plain": [
       "            Alcohol     Malic       Ash  Alcalinity  Magnesium   Phenols  \\\n",
       "ClusterID                                                                  \n",
       "0          0.435568  0.516712  0.449176    0.644669   0.438940  0.201053   \n",
       "1          0.322099  0.410551  0.449393    0.669336   0.369270  0.572510   \n",
       "2          0.732988  0.290434  0.475962    0.405138   0.666422  0.714192   \n",
       "3          0.571540  0.637371  0.544872    0.748792   0.525806  0.190408   \n",
       "4          0.645997  0.244082  0.612401    0.439530   0.543382  0.562019   \n",
       "5          0.274204  0.215888  0.176816    0.570048   0.336022  0.371703   \n",
       "6          0.201529  0.218162  0.528107    0.750279   0.263027  0.271168   \n",
       "\n",
       "           Flavanoids  Nonflavanoids  Proanthocyanins     Color       Hue  \\\n",
       "ClusterID                                                                   \n",
       "0            0.102085       0.637466         0.242788  0.435611  0.272606   \n",
       "1            0.605111       0.322741         0.640435  0.226351  0.438404   \n",
       "2            0.802417       0.240137         0.805288  0.565651  0.523976   \n",
       "3            0.106166       0.524528         0.393910  0.868894  0.098901   \n",
       "4            0.664441       0.341574         0.606764  0.407035  0.623721   \n",
       "5            0.425177       0.339623         0.491186  0.188753  0.610501   \n",
       "6            0.363050       0.679245         0.475592  0.174148  0.611158   \n",
       "\n",
       "           Dilution   Proline  \n",
       "ClusterID                      \n",
       "0          0.184328  0.240167  \n",
       "1          0.659148  0.222464  \n",
       "2          0.716450  0.615160  \n",
       "3          0.138462  0.269139  \n",
       "4          0.668814  0.588470  \n",
       "5          0.614571  0.132826  \n",
       "6          0.489152  0.154998  "
      ]
     },
     "execution_count": 36,
     "metadata": {},
     "output_type": "execute_result"
    }
   ],
   "source": [
    "#Grouping Clusters\n",
    "data_std.groupby('ClusterID').mean()"
   ]
  },
  {
   "cell_type": "markdown",
   "id": "b672f1f6",
   "metadata": {},
   "source": [
    "# Observation:"
   ]
  },
  {
   "cell_type": "markdown",
   "id": "6134e76f",
   "metadata": {},
   "source": [
    "\n",
    "Silhouette score (Hierarchical Clustering) :\n",
    "\n",
    "With PCA :- 0.477\n",
    "\n",
    "Without PCA :- 0.1264\n",
    "\n",
    "From this, we can say that Hierarchical clustering model done with the help of PCA is better than without PCA."
   ]
  },
  {
   "cell_type": "markdown",
   "id": "62aa4ddb",
   "metadata": {},
   "source": [
    "# Kmeans with PCA"
   ]
  },
  {
   "cell_type": "code",
   "execution_count": 37,
   "id": "600cc7e5",
   "metadata": {},
   "outputs": [
    {
     "data": {
      "text/html": [
       "<div>\n",
       "<style scoped>\n",
       "    .dataframe tbody tr th:only-of-type {\n",
       "        vertical-align: middle;\n",
       "    }\n",
       "\n",
       "    .dataframe tbody tr th {\n",
       "        vertical-align: top;\n",
       "    }\n",
       "\n",
       "    .dataframe thead th {\n",
       "        text-align: right;\n",
       "    }\n",
       "</style>\n",
       "<table border=\"1\" class=\"dataframe\">\n",
       "  <thead>\n",
       "    <tr style=\"text-align: right;\">\n",
       "      <th></th>\n",
       "      <th>PC1</th>\n",
       "      <th>PC2</th>\n",
       "      <th>PC3</th>\n",
       "    </tr>\n",
       "  </thead>\n",
       "  <tbody>\n",
       "    <tr>\n",
       "      <th>0</th>\n",
       "      <td>-0.840108</td>\n",
       "      <td>-0.297656</td>\n",
       "      <td>-0.045322</td>\n",
       "    </tr>\n",
       "    <tr>\n",
       "      <th>1</th>\n",
       "      <td>-0.507467</td>\n",
       "      <td>0.083134</td>\n",
       "      <td>-0.420547</td>\n",
       "    </tr>\n",
       "    <tr>\n",
       "      <th>2</th>\n",
       "      <td>-0.944532</td>\n",
       "      <td>-0.599921</td>\n",
       "      <td>-0.086916</td>\n",
       "    </tr>\n",
       "    <tr>\n",
       "      <th>3</th>\n",
       "      <td>-0.283723</td>\n",
       "      <td>-0.183859</td>\n",
       "      <td>0.534440</td>\n",
       "    </tr>\n",
       "    <tr>\n",
       "      <th>4</th>\n",
       "      <td>-0.759090</td>\n",
       "      <td>-0.460052</td>\n",
       "      <td>-0.062175</td>\n",
       "    </tr>\n",
       "  </tbody>\n",
       "</table>\n",
       "</div>"
      ],
      "text/plain": [
       "        PC1       PC2       PC3\n",
       "0 -0.840108 -0.297656 -0.045322\n",
       "1 -0.507467  0.083134 -0.420547\n",
       "2 -0.944532 -0.599921 -0.086916\n",
       "3 -0.283723 -0.183859  0.534440\n",
       "4 -0.759090 -0.460052 -0.062175"
      ]
     },
     "execution_count": 37,
     "metadata": {},
     "output_type": "execute_result"
    }
   ],
   "source": [
    "#Kmeans with PCA\n",
    "wine_data_pca.drop(wine_data_pca.columns[-1], axis=1, inplace=True)\n",
    "wine_data_pca.head()"
   ]
  },
  {
   "cell_type": "code",
   "execution_count": 38,
   "id": "d2db8874",
   "metadata": {},
   "outputs": [
    {
     "name": "stderr",
     "output_type": "stream",
     "text": [
      "C:\\Users\\Admin\\anaconda3\\lib\\site-packages\\sklearn\\cluster\\_kmeans.py:1039: UserWarning: KMeans is known to have a memory leak on Windows with MKL, when there are less chunks than available threads. You can avoid it by setting the environment variable OMP_NUM_THREADS=1.\n",
      "  warnings.warn(\n"
     ]
    },
    {
     "data": {
      "image/png": "[encoded data removed]",
      "text/plain": [
       "<Figure size 576x360 with 1 Axes>"
      ]
     },
     "metadata": {
      "needs_background": "light"
     },
     "output_type": "display_data"
    }
   ],
   "source": [
    "#'Elbow' curve\n",
    "plt.figure(figsize=[8,5])\n",
    "\n",
    "wcss=[]\n",
    "for i in range(1,6):\n",
    "    kmeans=KMeans(n_clusters=i, init='k-means++')\n",
    "    kmeans.fit(wine_data_pca)\n",
    "    wcss.append(kmeans.inertia_)\n",
    "    \n",
    "plt.plot(range(1,6), wcss)\n",
    "plt.title('Elbow Method')\n",
    "plt.xlabel('K value')\n",
    "plt.ylabel('WCSS')\n",
    "plt.show()"
   ]
  },
  {
   "cell_type": "code",
   "execution_count": 39,
   "id": "d693cc02",
   "metadata": {},
   "outputs": [
    {
     "data": {
      "text/plain": [
       "KMeans(n_clusters=3)"
      ]
     },
     "execution_count": 39,
     "metadata": {},
     "output_type": "execute_result"
    }
   ],
   "source": [
    "#From above elbow method curve, we will select K value as '3'.\n",
    "wine_kmeans=KMeans(n_clusters=3).fit(wine_data_pca)\n",
    "wine_kmeans"
   ]
  },
  {
   "cell_type": "code",
   "execution_count": 40,
   "id": "75991e89",
   "metadata": {},
   "outputs": [
    {
     "data": {
      "text/plain": [
       "array([0, 0, 0, 0, 0, 0, 0, 0, 0, 0, 0, 0, 0, 0, 0, 0, 0, 0, 0, 0, 0, 0,\n",
       "       0, 0, 0, 0, 0, 0, 0, 0, 0, 0, 0, 0, 0, 0, 0, 0, 0, 0, 0, 0, 0, 0,\n",
       "       0, 0, 0, 0, 0, 0, 0, 0, 0, 0, 2, 1, 2, 2, 2, 2, 2, 2, 2, 0, 2, 2,\n",
       "       2, 2, 2, 2, 2, 2, 1, 2, 2, 2, 2, 2, 2, 2, 2, 2, 2, 2, 0, 2, 2, 2,\n",
       "       2, 2, 2, 2, 2, 2, 2, 2, 2, 2, 2, 2, 1, 2, 2, 2, 2, 2, 2, 1, 1, 1,\n",
       "       1, 1, 1, 1, 1, 1, 1, 1, 1, 1, 1, 1, 1, 1, 1, 1, 1, 1, 1, 1, 1, 1,\n",
       "       1, 1, 1, 1, 1, 1, 1, 1, 1, 1, 1, 1])"
      ]
     },
     "execution_count": 40,
     "metadata": {},
     "output_type": "execute_result"
    }
   ],
   "source": [
    "wine_kmeans.labels_"
   ]
  },
  {
   "cell_type": "code",
   "execution_count": 41,
   "id": "2170c4b3",
   "metadata": {},
   "outputs": [
    {
     "data": {
      "text/plain": [
       "0.4914"
      ]
     },
     "execution_count": 41,
     "metadata": {},
     "output_type": "execute_result"
    }
   ],
   "source": [
    "#Calculating 'Silhouette' score\n",
    "round(sklearn.metrics.silhouette_score(wine_data_pca, wine_kmeans.labels_),4)"
   ]
  },
  {
   "cell_type": "code",
   "execution_count": 42,
   "id": "db8a2014",
   "metadata": {},
   "outputs": [],
   "source": [
    "#Adding cluster column\n",
    "wine_data_pca['ClusterID_kmeans']=wine_kmeans.labels_"
   ]
  },
  {
   "cell_type": "code",
   "execution_count": 43,
   "id": "9ad60901",
   "metadata": {},
   "outputs": [
    {
     "data": {
      "text/html": [
       "<div>\n",
       "<style scoped>\n",
       "    .dataframe tbody tr th:only-of-type {\n",
       "        vertical-align: middle;\n",
       "    }\n",
       "\n",
       "    .dataframe tbody tr th {\n",
       "        vertical-align: top;\n",
       "    }\n",
       "\n",
       "    .dataframe thead th {\n",
       "        text-align: right;\n",
       "    }\n",
       "</style>\n",
       "<table border=\"1\" class=\"dataframe\">\n",
       "  <thead>\n",
       "    <tr style=\"text-align: right;\">\n",
       "      <th></th>\n",
       "      <th>PC1</th>\n",
       "      <th>PC2</th>\n",
       "      <th>PC3</th>\n",
       "      <th>ClusterID_kmeans</th>\n",
       "    </tr>\n",
       "  </thead>\n",
       "  <tbody>\n",
       "    <tr>\n",
       "      <th>0</th>\n",
       "      <td>-0.840108</td>\n",
       "      <td>-0.297656</td>\n",
       "      <td>-0.045322</td>\n",
       "      <td>0</td>\n",
       "    </tr>\n",
       "    <tr>\n",
       "      <th>1</th>\n",
       "      <td>-0.507467</td>\n",
       "      <td>0.083134</td>\n",
       "      <td>-0.420547</td>\n",
       "      <td>0</td>\n",
       "    </tr>\n",
       "    <tr>\n",
       "      <th>2</th>\n",
       "      <td>-0.944532</td>\n",
       "      <td>-0.599921</td>\n",
       "      <td>-0.086916</td>\n",
       "      <td>0</td>\n",
       "    </tr>\n",
       "    <tr>\n",
       "      <th>3</th>\n",
       "      <td>-0.283723</td>\n",
       "      <td>-0.183859</td>\n",
       "      <td>0.534440</td>\n",
       "      <td>0</td>\n",
       "    </tr>\n",
       "    <tr>\n",
       "      <th>4</th>\n",
       "      <td>-0.759090</td>\n",
       "      <td>-0.460052</td>\n",
       "      <td>-0.062175</td>\n",
       "      <td>0</td>\n",
       "    </tr>\n",
       "  </tbody>\n",
       "</table>\n",
       "</div>"
      ],
      "text/plain": [
       "        PC1       PC2       PC3  ClusterID_kmeans\n",
       "0 -0.840108 -0.297656 -0.045322                 0\n",
       "1 -0.507467  0.083134 -0.420547                 0\n",
       "2 -0.944532 -0.599921 -0.086916                 0\n",
       "3 -0.283723 -0.183859  0.534440                 0\n",
       "4 -0.759090 -0.460052 -0.062175                 0"
      ]
     },
     "execution_count": 43,
     "metadata": {},
     "output_type": "execute_result"
    }
   ],
   "source": [
    "wine_data_pca.head()"
   ]
  },
  {
   "cell_type": "code",
   "execution_count": 44,
   "id": "01f1bdf6",
   "metadata": {},
   "outputs": [
    {
     "data": {
      "text/html": [
       "<div>\n",
       "<style scoped>\n",
       "    .dataframe tbody tr th:only-of-type {\n",
       "        vertical-align: middle;\n",
       "    }\n",
       "\n",
       "    .dataframe tbody tr th {\n",
       "        vertical-align: top;\n",
       "    }\n",
       "\n",
       "    .dataframe thead th {\n",
       "        text-align: right;\n",
       "    }\n",
       "</style>\n",
       "<table border=\"1\" class=\"dataframe\">\n",
       "  <thead>\n",
       "    <tr style=\"text-align: right;\">\n",
       "      <th></th>\n",
       "      <th>PC1</th>\n",
       "      <th>PC2</th>\n",
       "      <th>PC3</th>\n",
       "    </tr>\n",
       "    <tr>\n",
       "      <th>ClusterID_kmeans</th>\n",
       "      <th></th>\n",
       "      <th></th>\n",
       "      <th></th>\n",
       "    </tr>\n",
       "  </thead>\n",
       "  <tbody>\n",
       "    <tr>\n",
       "      <th>0</th>\n",
       "      <td>-0.556591</td>\n",
       "      <td>-0.179607</td>\n",
       "      <td>-0.000004</td>\n",
       "    </tr>\n",
       "    <tr>\n",
       "      <th>1</th>\n",
       "      <td>0.693474</td>\n",
       "      <td>-0.279754</td>\n",
       "      <td>-0.039352</td>\n",
       "    </tr>\n",
       "    <tr>\n",
       "      <th>2</th>\n",
       "      <td>0.071461</td>\n",
       "      <td>0.442670</td>\n",
       "      <td>0.032798</td>\n",
       "    </tr>\n",
       "  </tbody>\n",
       "</table>\n",
       "</div>"
      ],
      "text/plain": [
       "                       PC1       PC2       PC3\n",
       "ClusterID_kmeans                              \n",
       "0                -0.556591 -0.179607 -0.000004\n",
       "1                 0.693474 -0.279754 -0.039352\n",
       "2                 0.071461  0.442670  0.032798"
      ]
     },
     "execution_count": 44,
     "metadata": {},
     "output_type": "execute_result"
    }
   ],
   "source": [
    "#Grouping cluster\n",
    "wine_data_pca.groupby('ClusterID_kmeans').mean()"
   ]
  },
  {
   "cell_type": "markdown",
   "id": "6aefe648",
   "metadata": {},
   "source": [
    "# Kmeans without PCA"
   ]
  },
  {
   "cell_type": "code",
   "execution_count": 45,
   "id": "29404f3f",
   "metadata": {},
   "outputs": [
    {
     "data": {
      "text/html": [
       "<div>\n",
       "<style scoped>\n",
       "    .dataframe tbody tr th:only-of-type {\n",
       "        vertical-align: middle;\n",
       "    }\n",
       "\n",
       "    .dataframe tbody tr th {\n",
       "        vertical-align: top;\n",
       "    }\n",
       "\n",
       "    .dataframe thead th {\n",
       "        text-align: right;\n",
       "    }\n",
       "</style>\n",
       "<table border=\"1\" class=\"dataframe\">\n",
       "  <thead>\n",
       "    <tr style=\"text-align: right;\">\n",
       "      <th></th>\n",
       "      <th>Alcohol</th>\n",
       "      <th>Malic</th>\n",
       "      <th>Ash</th>\n",
       "      <th>Alcalinity</th>\n",
       "      <th>Magnesium</th>\n",
       "      <th>Phenols</th>\n",
       "      <th>Flavanoids</th>\n",
       "      <th>Nonflavanoids</th>\n",
       "      <th>Proanthocyanins</th>\n",
       "      <th>Color</th>\n",
       "      <th>Hue</th>\n",
       "      <th>Dilution</th>\n",
       "      <th>Proline</th>\n",
       "    </tr>\n",
       "  </thead>\n",
       "  <tbody>\n",
       "    <tr>\n",
       "      <th>0</th>\n",
       "      <td>0.824561</td>\n",
       "      <td>0.230404</td>\n",
       "      <td>0.528846</td>\n",
       "      <td>0.318841</td>\n",
       "      <td>0.919355</td>\n",
       "      <td>0.611511</td>\n",
       "      <td>0.748555</td>\n",
       "      <td>0.283019</td>\n",
       "      <td>0.903846</td>\n",
       "      <td>0.485523</td>\n",
       "      <td>0.549451</td>\n",
       "      <td>0.970696</td>\n",
       "      <td>0.561341</td>\n",
       "    </tr>\n",
       "    <tr>\n",
       "      <th>1</th>\n",
       "      <td>0.523392</td>\n",
       "      <td>0.247031</td>\n",
       "      <td>0.250000</td>\n",
       "      <td>0.000000</td>\n",
       "      <td>0.483871</td>\n",
       "      <td>0.557554</td>\n",
       "      <td>0.661850</td>\n",
       "      <td>0.245283</td>\n",
       "      <td>0.418269</td>\n",
       "      <td>0.345212</td>\n",
       "      <td>0.560440</td>\n",
       "      <td>0.780220</td>\n",
       "      <td>0.550642</td>\n",
       "    </tr>\n",
       "    <tr>\n",
       "      <th>2</th>\n",
       "      <td>0.865497</td>\n",
       "      <td>0.287411</td>\n",
       "      <td>0.596154</td>\n",
       "      <td>0.405797</td>\n",
       "      <td>0.693548</td>\n",
       "      <td>0.989209</td>\n",
       "      <td>0.872832</td>\n",
       "      <td>0.207547</td>\n",
       "      <td>0.850962</td>\n",
       "      <td>0.726058</td>\n",
       "      <td>0.351648</td>\n",
       "      <td>0.798535</td>\n",
       "      <td>0.857347</td>\n",
       "    </tr>\n",
       "    <tr>\n",
       "      <th>3</th>\n",
       "      <td>0.535088</td>\n",
       "      <td>0.439430</td>\n",
       "      <td>0.951923</td>\n",
       "      <td>0.710145</td>\n",
       "      <td>0.774194</td>\n",
       "      <td>0.611511</td>\n",
       "      <td>0.641618</td>\n",
       "      <td>0.490566</td>\n",
       "      <td>0.677885</td>\n",
       "      <td>0.338530</td>\n",
       "      <td>0.549451</td>\n",
       "      <td>0.608059</td>\n",
       "      <td>0.325963</td>\n",
       "    </tr>\n",
       "    <tr>\n",
       "      <th>4</th>\n",
       "      <td>0.815789</td>\n",
       "      <td>0.242280</td>\n",
       "      <td>0.548077</td>\n",
       "      <td>0.289855</td>\n",
       "      <td>0.677419</td>\n",
       "      <td>0.780576</td>\n",
       "      <td>0.843931</td>\n",
       "      <td>0.396226</td>\n",
       "      <td>0.750000</td>\n",
       "      <td>0.609131</td>\n",
       "      <td>0.560440</td>\n",
       "      <td>0.578755</td>\n",
       "      <td>0.835949</td>\n",
       "    </tr>\n",
       "  </tbody>\n",
       "</table>\n",
       "</div>"
      ],
      "text/plain": [
       "    Alcohol     Malic       Ash  Alcalinity  Magnesium   Phenols  Flavanoids  \\\n",
       "0  0.824561  0.230404  0.528846    0.318841   0.919355  0.611511    0.748555   \n",
       "1  0.523392  0.247031  0.250000    0.000000   0.483871  0.557554    0.661850   \n",
       "2  0.865497  0.287411  0.596154    0.405797   0.693548  0.989209    0.872832   \n",
       "3  0.535088  0.439430  0.951923    0.710145   0.774194  0.611511    0.641618   \n",
       "4  0.815789  0.242280  0.548077    0.289855   0.677419  0.780576    0.843931   \n",
       "\n",
       "   Nonflavanoids  Proanthocyanins     Color       Hue  Dilution   Proline  \n",
       "0       0.283019         0.903846  0.485523  0.549451  0.970696  0.561341  \n",
       "1       0.245283         0.418269  0.345212  0.560440  0.780220  0.550642  \n",
       "2       0.207547         0.850962  0.726058  0.351648  0.798535  0.857347  \n",
       "3       0.490566         0.677885  0.338530  0.549451  0.608059  0.325963  \n",
       "4       0.396226         0.750000  0.609131  0.560440  0.578755  0.835949  "
      ]
     },
     "execution_count": 45,
     "metadata": {},
     "output_type": "execute_result"
    }
   ],
   "source": [
    "#Kmeans without PCA\n",
    "data_std.drop(data_std.columns[-1], axis=1, inplace=True)\n",
    "data_std.head()"
   ]
  },
  {
   "cell_type": "code",
   "execution_count": 46,
   "id": "e2048b6a",
   "metadata": {},
   "outputs": [
    {
     "name": "stderr",
     "output_type": "stream",
     "text": [
      "C:\\Users\\Admin\\anaconda3\\lib\\site-packages\\sklearn\\cluster\\_kmeans.py:1039: UserWarning: KMeans is known to have a memory leak on Windows with MKL, when there are less chunks than available threads. You can avoid it by setting the environment variable OMP_NUM_THREADS=1.\n",
      "  warnings.warn(\n"
     ]
    },
    {
     "data": {
      "image/png": "[encoded data removed]",
      "text/plain": [
       "<Figure size 576x360 with 1 Axes>"
      ]
     },
     "metadata": {
      "needs_background": "light"
     },
     "output_type": "display_data"
    }
   ],
   "source": [
    "#'Elbow' Curve\n",
    "plt.figure(figsize=[8,5])\n",
    "\n",
    "wcss=[]\n",
    "for i in range(1,6):\n",
    "    kmeans=KMeans(n_clusters=i, init='k-means++')\n",
    "    kmeans.fit(data_std)\n",
    "    wcss.append(kmeans.inertia_)\n",
    "    \n",
    "plt.plot(range(1,6), wcss)\n",
    "plt.title('Elbow Method')\n",
    "plt.xlabel('K value')\n",
    "plt.ylabel('WCSS')\n",
    "plt.show()"
   ]
  },
  {
   "cell_type": "code",
   "execution_count": 47,
   "id": "0216a0f2",
   "metadata": {},
   "outputs": [
    {
     "data": {
      "text/plain": [
       "array([2, 2, 2, 2, 2, 2, 2, 2, 2, 2, 2, 2, 2, 2, 2, 2, 2, 2, 2, 2, 2, 2,\n",
       "       2, 2, 2, 2, 2, 2, 2, 2, 2, 2, 2, 2, 2, 2, 2, 2, 2, 2, 2, 2, 2, 2,\n",
       "       2, 2, 2, 2, 2, 2, 2, 2, 2, 2, 1, 0, 1, 1, 1, 1, 1, 1, 1, 2, 1, 1,\n",
       "       1, 1, 1, 1, 1, 1, 0, 1, 1, 1, 1, 1, 1, 1, 1, 1, 1, 1, 2, 1, 1, 1,\n",
       "       1, 1, 1, 1, 1, 1, 1, 1, 1, 1, 1, 1, 0, 1, 1, 1, 1, 1, 1, 0, 0, 0,\n",
       "       0, 0, 0, 0, 0, 0, 0, 0, 0, 0, 0, 0, 0, 0, 0, 0, 0, 0, 0, 0, 0, 0,\n",
       "       0, 0, 0, 0, 0, 0, 0, 0, 0, 0, 0, 0])"
      ]
     },
     "execution_count": 47,
     "metadata": {},
     "output_type": "execute_result"
    }
   ],
   "source": [
    "#above elbow method curve, we will select K value '3'\n",
    "wine_kmeans1=KMeans(n_clusters=3).fit(data_std)\n",
    "wine_kmeans1.labels_"
   ]
  },
  {
   "cell_type": "code",
   "execution_count": 48,
   "id": "14355271",
   "metadata": {},
   "outputs": [
    {
     "data": {
      "text/plain": [
       "0.3148"
      ]
     },
     "execution_count": 48,
     "metadata": {},
     "output_type": "execute_result"
    }
   ],
   "source": [
    "#Calculating 'Silhouette' score\n",
    "round(sklearn.metrics.silhouette_score(data_std, wine_kmeans1.labels_),4)"
   ]
  },
  {
   "cell_type": "code",
   "execution_count": 49,
   "id": "ffa43961",
   "metadata": {},
   "outputs": [
    {
     "data": {
      "text/html": [
       "<div>\n",
       "<style scoped>\n",
       "    .dataframe tbody tr th:only-of-type {\n",
       "        vertical-align: middle;\n",
       "    }\n",
       "\n",
       "    .dataframe tbody tr th {\n",
       "        vertical-align: top;\n",
       "    }\n",
       "\n",
       "    .dataframe thead th {\n",
       "        text-align: right;\n",
       "    }\n",
       "</style>\n",
       "<table border=\"1\" class=\"dataframe\">\n",
       "  <thead>\n",
       "    <tr style=\"text-align: right;\">\n",
       "      <th></th>\n",
       "      <th>Alcohol</th>\n",
       "      <th>Malic</th>\n",
       "      <th>Ash</th>\n",
       "      <th>Alcalinity</th>\n",
       "      <th>Magnesium</th>\n",
       "      <th>Phenols</th>\n",
       "      <th>Flavanoids</th>\n",
       "      <th>Nonflavanoids</th>\n",
       "      <th>Proanthocyanins</th>\n",
       "      <th>Color</th>\n",
       "      <th>Hue</th>\n",
       "      <th>Dilution</th>\n",
       "      <th>Proline</th>\n",
       "      <th>ClusterID</th>\n",
       "    </tr>\n",
       "  </thead>\n",
       "  <tbody>\n",
       "    <tr>\n",
       "      <th>0</th>\n",
       "      <td>0.824561</td>\n",
       "      <td>0.230404</td>\n",
       "      <td>0.528846</td>\n",
       "      <td>0.318841</td>\n",
       "      <td>0.919355</td>\n",
       "      <td>0.611511</td>\n",
       "      <td>0.748555</td>\n",
       "      <td>0.283019</td>\n",
       "      <td>0.903846</td>\n",
       "      <td>0.485523</td>\n",
       "      <td>0.549451</td>\n",
       "      <td>0.970696</td>\n",
       "      <td>0.561341</td>\n",
       "      <td>2</td>\n",
       "    </tr>\n",
       "    <tr>\n",
       "      <th>1</th>\n",
       "      <td>0.523392</td>\n",
       "      <td>0.247031</td>\n",
       "      <td>0.250000</td>\n",
       "      <td>0.000000</td>\n",
       "      <td>0.483871</td>\n",
       "      <td>0.557554</td>\n",
       "      <td>0.661850</td>\n",
       "      <td>0.245283</td>\n",
       "      <td>0.418269</td>\n",
       "      <td>0.345212</td>\n",
       "      <td>0.560440</td>\n",
       "      <td>0.780220</td>\n",
       "      <td>0.550642</td>\n",
       "      <td>2</td>\n",
       "    </tr>\n",
       "    <tr>\n",
       "      <th>2</th>\n",
       "      <td>0.865497</td>\n",
       "      <td>0.287411</td>\n",
       "      <td>0.596154</td>\n",
       "      <td>0.405797</td>\n",
       "      <td>0.693548</td>\n",
       "      <td>0.989209</td>\n",
       "      <td>0.872832</td>\n",
       "      <td>0.207547</td>\n",
       "      <td>0.850962</td>\n",
       "      <td>0.726058</td>\n",
       "      <td>0.351648</td>\n",
       "      <td>0.798535</td>\n",
       "      <td>0.857347</td>\n",
       "      <td>2</td>\n",
       "    </tr>\n",
       "    <tr>\n",
       "      <th>3</th>\n",
       "      <td>0.535088</td>\n",
       "      <td>0.439430</td>\n",
       "      <td>0.951923</td>\n",
       "      <td>0.710145</td>\n",
       "      <td>0.774194</td>\n",
       "      <td>0.611511</td>\n",
       "      <td>0.641618</td>\n",
       "      <td>0.490566</td>\n",
       "      <td>0.677885</td>\n",
       "      <td>0.338530</td>\n",
       "      <td>0.549451</td>\n",
       "      <td>0.608059</td>\n",
       "      <td>0.325963</td>\n",
       "      <td>2</td>\n",
       "    </tr>\n",
       "    <tr>\n",
       "      <th>4</th>\n",
       "      <td>0.815789</td>\n",
       "      <td>0.242280</td>\n",
       "      <td>0.548077</td>\n",
       "      <td>0.289855</td>\n",
       "      <td>0.677419</td>\n",
       "      <td>0.780576</td>\n",
       "      <td>0.843931</td>\n",
       "      <td>0.396226</td>\n",
       "      <td>0.750000</td>\n",
       "      <td>0.609131</td>\n",
       "      <td>0.560440</td>\n",
       "      <td>0.578755</td>\n",
       "      <td>0.835949</td>\n",
       "      <td>2</td>\n",
       "    </tr>\n",
       "  </tbody>\n",
       "</table>\n",
       "</div>"
      ],
      "text/plain": [
       "    Alcohol     Malic       Ash  Alcalinity  Magnesium   Phenols  Flavanoids  \\\n",
       "0  0.824561  0.230404  0.528846    0.318841   0.919355  0.611511    0.748555   \n",
       "1  0.523392  0.247031  0.250000    0.000000   0.483871  0.557554    0.661850   \n",
       "2  0.865497  0.287411  0.596154    0.405797   0.693548  0.989209    0.872832   \n",
       "3  0.535088  0.439430  0.951923    0.710145   0.774194  0.611511    0.641618   \n",
       "4  0.815789  0.242280  0.548077    0.289855   0.677419  0.780576    0.843931   \n",
       "\n",
       "   Nonflavanoids  Proanthocyanins     Color       Hue  Dilution   Proline  \\\n",
       "0       0.283019         0.903846  0.485523  0.549451  0.970696  0.561341   \n",
       "1       0.245283         0.418269  0.345212  0.560440  0.780220  0.550642   \n",
       "2       0.207547         0.850962  0.726058  0.351648  0.798535  0.857347   \n",
       "3       0.490566         0.677885  0.338530  0.549451  0.608059  0.325963   \n",
       "4       0.396226         0.750000  0.609131  0.560440  0.578755  0.835949   \n",
       "\n",
       "   ClusterID  \n",
       "0          2  \n",
       "1          2  \n",
       "2          2  \n",
       "3          2  \n",
       "4          2  "
      ]
     },
     "execution_count": 49,
     "metadata": {},
     "output_type": "execute_result"
    }
   ],
   "source": [
    "#Adding cluster column in the data\n",
    "data_std['ClusterID']=wine_kmeans1.labels_\n",
    "data_std.head()"
   ]
  },
  {
   "cell_type": "code",
   "execution_count": 50,
   "id": "7fbf362d",
   "metadata": {},
   "outputs": [
    {
     "data": {
      "text/html": [
       "<div>\n",
       "<style scoped>\n",
       "    .dataframe tbody tr th:only-of-type {\n",
       "        vertical-align: middle;\n",
       "    }\n",
       "\n",
       "    .dataframe tbody tr th {\n",
       "        vertical-align: top;\n",
       "    }\n",
       "\n",
       "    .dataframe thead th {\n",
       "        text-align: right;\n",
       "    }\n",
       "</style>\n",
       "<table border=\"1\" class=\"dataframe\">\n",
       "  <thead>\n",
       "    <tr style=\"text-align: right;\">\n",
       "      <th></th>\n",
       "      <th>Alcohol</th>\n",
       "      <th>Malic</th>\n",
       "      <th>Ash</th>\n",
       "      <th>Alcalinity</th>\n",
       "      <th>Magnesium</th>\n",
       "      <th>Phenols</th>\n",
       "      <th>Flavanoids</th>\n",
       "      <th>Nonflavanoids</th>\n",
       "      <th>Proanthocyanins</th>\n",
       "      <th>Color</th>\n",
       "      <th>Hue</th>\n",
       "      <th>Dilution</th>\n",
       "      <th>Proline</th>\n",
       "    </tr>\n",
       "    <tr>\n",
       "      <th>ClusterID</th>\n",
       "      <th></th>\n",
       "      <th></th>\n",
       "      <th></th>\n",
       "      <th></th>\n",
       "      <th></th>\n",
       "      <th></th>\n",
       "      <th></th>\n",
       "      <th></th>\n",
       "      <th></th>\n",
       "      <th></th>\n",
       "      <th></th>\n",
       "      <th></th>\n",
       "      <th></th>\n",
       "    </tr>\n",
       "  </thead>\n",
       "  <tbody>\n",
       "    <tr>\n",
       "      <th>0</th>\n",
       "      <td>0.491959</td>\n",
       "      <td>0.592221</td>\n",
       "      <td>0.489663</td>\n",
       "      <td>0.696196</td>\n",
       "      <td>0.462500</td>\n",
       "      <td>0.190737</td>\n",
       "      <td>0.096821</td>\n",
       "      <td>0.588208</td>\n",
       "      <td>0.304928</td>\n",
       "      <td>0.615033</td>\n",
       "      <td>0.185165</td>\n",
       "      <td>0.166209</td>\n",
       "      <td>0.242903</td>\n",
       "    </tr>\n",
       "    <tr>\n",
       "      <th>1</th>\n",
       "      <td>0.243056</td>\n",
       "      <td>0.243666</td>\n",
       "      <td>0.365184</td>\n",
       "      <td>0.646588</td>\n",
       "      <td>0.334005</td>\n",
       "      <td>0.390588</td>\n",
       "      <td>0.437199</td>\n",
       "      <td>0.462264</td>\n",
       "      <td>0.516426</td>\n",
       "      <td>0.185250</td>\n",
       "      <td>0.554625</td>\n",
       "      <td>0.558837</td>\n",
       "      <td>0.163487</td>\n",
       "    </tr>\n",
       "    <tr>\n",
       "      <th>2</th>\n",
       "      <td>0.677840</td>\n",
       "      <td>0.297039</td>\n",
       "      <td>0.543784</td>\n",
       "      <td>0.442676</td>\n",
       "      <td>0.581221</td>\n",
       "      <td>0.628790</td>\n",
       "      <td>0.721150</td>\n",
       "      <td>0.290431</td>\n",
       "      <td>0.682606</td>\n",
       "      <td>0.463351</td>\n",
       "      <td>0.570840</td>\n",
       "      <td>0.694074</td>\n",
       "      <td>0.579109</td>\n",
       "    </tr>\n",
       "  </tbody>\n",
       "</table>\n",
       "</div>"
      ],
      "text/plain": [
       "            Alcohol     Malic       Ash  Alcalinity  Magnesium   Phenols  \\\n",
       "ClusterID                                                                  \n",
       "0          0.491959  0.592221  0.489663    0.696196   0.462500  0.190737   \n",
       "1          0.243056  0.243666  0.365184    0.646588   0.334005  0.390588   \n",
       "2          0.677840  0.297039  0.543784    0.442676   0.581221  0.628790   \n",
       "\n",
       "           Flavanoids  Nonflavanoids  Proanthocyanins     Color       Hue  \\\n",
       "ClusterID                                                                   \n",
       "0            0.096821       0.588208         0.304928  0.615033  0.185165   \n",
       "1            0.437199       0.462264         0.516426  0.185250  0.554625   \n",
       "2            0.721150       0.290431         0.682606  0.463351  0.570840   \n",
       "\n",
       "           Dilution   Proline  \n",
       "ClusterID                      \n",
       "0          0.166209  0.242903  \n",
       "1          0.558837  0.163487  \n",
       "2          0.694074  0.579109  "
      ]
     },
     "execution_count": 50,
     "metadata": {},
     "output_type": "execute_result"
    }
   ],
   "source": [
    "#Grouping Clusters\n",
    "data_std.groupby('ClusterID').mean()\n"
   ]
  },
  {
   "cell_type": "code",
   "execution_count": 51,
   "id": "67baddca",
   "metadata": {},
   "outputs": [
    {
     "data": {
      "text/plain": [
       "2    56\n",
       "1    48\n",
       "0    40\n",
       "Name: ClusterID, dtype: int64"
      ]
     },
     "execution_count": 51,
     "metadata": {},
     "output_type": "execute_result"
    }
   ],
   "source": [
    "data_std['ClusterID'].value_counts()\n"
   ]
  },
  {
   "cell_type": "markdown",
   "id": "e6d05943",
   "metadata": {},
   "source": [
    "# Observation :"
   ]
  },
  {
   "cell_type": "markdown",
   "id": "b5d45ec1",
   "metadata": {},
   "source": [
    "\n",
    "Silhouette score (KMeans Clustering) :\n",
    "\n",
    "With PCA :- 0.4914\n",
    "\n",
    "Without PCA :- 0.3157\n",
    "\n",
    "From this, we can say that KMeans clustering model done with the help of PCA is better than without PCA."
   ]
  },
  {
   "cell_type": "code",
   "execution_count": null,
   "id": "1cb2ed28",
   "metadata": {},
   "outputs": [],
   "source": []
  }
 ],
 "metadata": {
  "kernelspec": {
   "display_name": "Python 3",
   "language": "python",
   "name": "python3"
  },
  "language_info": {
   "codemirror_mode": {
    "name": "ipython",
    "version": 3
   },
   "file_extension": ".py",
   "mimetype": "text/x-python",
   "name": "python",
   "nbconvert_exporter": "python",
   "pygments_lexer": "ipython3",
   "version": "3.8.8"
  }
 },
 "nbformat": 4,
 "nbformat_minor": 5
}
